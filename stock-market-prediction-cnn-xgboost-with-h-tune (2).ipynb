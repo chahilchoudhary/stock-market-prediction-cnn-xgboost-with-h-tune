{
 "cells": [
  {
   "cell_type": "code",
   "execution_count": 1,
   "id": "068c5806",
   "metadata": {
    "_cell_guid": "b1076dfc-b9ad-4769-8c92-a6c4dae69d19",
    "_uuid": "8f2839f25d086af736a60e9eeb907d3b93b6e0e5",
    "execution": {
     "iopub.execute_input": "2022-01-10T10:47:59.529064Z",
     "iopub.status.busy": "2022-01-10T10:47:59.527789Z",
     "iopub.status.idle": "2022-01-10T10:48:06.003649Z",
     "shell.execute_reply": "2022-01-10T10:48:06.004181Z",
     "shell.execute_reply.started": "2022-01-10T10:41:38.174825Z"
    },
    "papermill": {
     "duration": 6.540134,
     "end_time": "2022-01-10T10:48:06.004481",
     "exception": false,
     "start_time": "2022-01-10T10:47:59.464347",
     "status": "completed"
    },
    "tags": []
   },
   "outputs": [
    {
     "name": "stdout",
     "output_type": "stream",
     "text": [
      "/kaggle/input/cnnpred-stock-market-prediction/Processed_NASDAQ.csv\n",
      "/kaggle/input/cnnpred-stock-market-prediction/Processed_NYSE.csv\n",
      "/kaggle/input/cnnpred-stock-market-prediction/Processed_SP.csv\n",
      "/kaggle/input/cnnpred-stock-market-prediction/Processed_DJI.csv\n",
      "/kaggle/input/cnnpred-stock-market-prediction/Processed_RUSSELL.csv\n"
     ]
    }
   ],
   "source": [
    "# This Python 3 environment comes with many helpful analytics libraries installed\n",
    "# It is defined by the kaggle/python Docker image: https://github.com/kaggle/docker-python\n",
    "# For example, here's several helpful packages to load\n",
    "\n",
    "import numpy as np # linear algebra\n",
    "import pandas as pd # data processing, CSV file I/O (e.g. pd.read_csv)\n",
    "from sklearn.preprocessing import scale\n",
    "from tensorflow.keras import backend as K, callbacks\n",
    "from sklearn.metrics import accuracy_score as accuracy, f1_score, mean_absolute_error as mae\n",
    "from tensorflow.keras.models import Sequential, load_model\n",
    "from tensorflow.keras.layers import Dense, Dropout, Flatten\n",
    "from tensorflow.keras.layers import Conv2D, MaxPool2D\n",
    "from tensorflow.keras.layers import Flatten, Dense, Dropout, BatchNormalization\n",
    "from keras.utils.vis_utils import plot_model\n",
    "\n",
    "\n",
    "# Input data files are available in the read-only \"../input/\" directory\n",
    "# For example, running this (by clicking run or pressing Shift+Enter) will list all files under the input directory\n",
    "\n",
    "import os\n",
    "for dirname, _, filenames in os.walk('/kaggle/input'):\n",
    "    for filename in filenames:\n",
    "        print(os.path.join(dirname, filename))\n",
    "\n",
    "# You can write up to 20GB to the current directory (/kaggle/working/) that gets preserved as output when you create a version using \"Save & Run All\" \n",
    "# You can also write temporary files to /kaggle/temp/, but they won't be saved outside of the current session"
   ]
  },
  {
   "cell_type": "code",
   "execution_count": 2,
   "id": "26b825b3",
   "metadata": {
    "execution": {
     "iopub.execute_input": "2022-01-10T10:48:06.124303Z",
     "iopub.status.busy": "2022-01-10T10:48:06.123607Z",
     "iopub.status.idle": "2022-01-10T10:48:06.424136Z",
     "shell.execute_reply": "2022-01-10T10:48:06.423495Z",
     "shell.execute_reply.started": "2022-01-10T10:41:40.665398Z"
    },
    "papermill": {
     "duration": 0.361527,
     "end_time": "2022-01-10T10:48:06.424301",
     "exception": false,
     "start_time": "2022-01-10T10:48:06.062774",
     "status": "completed"
    },
    "tags": []
   },
   "outputs": [],
   "source": [
    "dataset_NASDAQ = pd.read_csv(\"/kaggle/input/cnnpred-stock-market-prediction/Processed_NASDAQ.csv\", parse_dates=['Date'])\n",
    "dataset_NYSE = pd.read_csv(\"/kaggle/input/cnnpred-stock-market-prediction/Processed_NYSE.csv\", parse_dates=['Date'])\n",
    "dataset_SP = pd.read_csv(\"/kaggle/input/cnnpred-stock-market-prediction/Processed_SP.csv\", parse_dates=['Date'])\n",
    "dataset_DJI = pd.read_csv(\"/kaggle/input/cnnpred-stock-market-prediction/Processed_DJI.csv\", parse_dates=['Date'])\n",
    "dataset_RUSSELL = pd.read_csv(\"/kaggle/input/cnnpred-stock-market-prediction/Processed_RUSSELL.csv\", parse_dates=['Date'])"
   ]
  },
  {
   "cell_type": "code",
   "execution_count": 3,
   "id": "ea0989b6",
   "metadata": {
    "execution": {
     "iopub.execute_input": "2022-01-10T10:48:06.546696Z",
     "iopub.status.busy": "2022-01-10T10:48:06.546050Z",
     "iopub.status.idle": "2022-01-10T10:48:06.578848Z",
     "shell.execute_reply": "2022-01-10T10:48:06.579442Z",
     "shell.execute_reply.started": "2022-01-10T10:41:40.854621Z"
    },
    "papermill": {
     "duration": 0.098523,
     "end_time": "2022-01-10T10:48:06.579618",
     "exception": false,
     "start_time": "2022-01-10T10:48:06.481095",
     "status": "completed"
    },
    "tags": []
   },
   "outputs": [
    {
     "data": {
      "text/html": [
       "<div>\n",
       "<style scoped>\n",
       "    .dataframe tbody tr th:only-of-type {\n",
       "        vertical-align: middle;\n",
       "    }\n",
       "\n",
       "    .dataframe tbody tr th {\n",
       "        vertical-align: top;\n",
       "    }\n",
       "\n",
       "    .dataframe thead th {\n",
       "        text-align: right;\n",
       "    }\n",
       "</style>\n",
       "<table border=\"1\" class=\"dataframe\">\n",
       "  <thead>\n",
       "    <tr style=\"text-align: right;\">\n",
       "      <th></th>\n",
       "      <th>Date</th>\n",
       "      <th>Close</th>\n",
       "      <th>Volume</th>\n",
       "      <th>mom</th>\n",
       "      <th>mom1</th>\n",
       "      <th>mom2</th>\n",
       "      <th>mom3</th>\n",
       "      <th>ROC_5</th>\n",
       "      <th>ROC_10</th>\n",
       "      <th>ROC_15</th>\n",
       "      <th>...</th>\n",
       "      <th>NZD</th>\n",
       "      <th>silver-F</th>\n",
       "      <th>RUSSELL-F</th>\n",
       "      <th>S&amp;P-F</th>\n",
       "      <th>CHF</th>\n",
       "      <th>Dollar index-F</th>\n",
       "      <th>Dollar index</th>\n",
       "      <th>wheat-F</th>\n",
       "      <th>XAG</th>\n",
       "      <th>XAU</th>\n",
       "    </tr>\n",
       "  </thead>\n",
       "  <tbody>\n",
       "    <tr>\n",
       "      <th>0</th>\n",
       "      <td>2009-12-31</td>\n",
       "      <td>2269.149902</td>\n",
       "      <td>NaN</td>\n",
       "      <td>NaN</td>\n",
       "      <td>NaN</td>\n",
       "      <td>NaN</td>\n",
       "      <td>NaN</td>\n",
       "      <td>NaN</td>\n",
       "      <td>NaN</td>\n",
       "      <td>NaN</td>\n",
       "      <td>...</td>\n",
       "      <td>0.03</td>\n",
       "      <td>0.26</td>\n",
       "      <td>-1.08</td>\n",
       "      <td>-1.00</td>\n",
       "      <td>-0.11</td>\n",
       "      <td>-0.08</td>\n",
       "      <td>-0.06</td>\n",
       "      <td>-0.48</td>\n",
       "      <td>0.30</td>\n",
       "      <td>0.39</td>\n",
       "    </tr>\n",
       "    <tr>\n",
       "      <th>1</th>\n",
       "      <td>2010-01-04</td>\n",
       "      <td>2308.419922</td>\n",
       "      <td>0.560308</td>\n",
       "      <td>0.017306</td>\n",
       "      <td>NaN</td>\n",
       "      <td>NaN</td>\n",
       "      <td>NaN</td>\n",
       "      <td>NaN</td>\n",
       "      <td>NaN</td>\n",
       "      <td>NaN</td>\n",
       "      <td>...</td>\n",
       "      <td>1.52</td>\n",
       "      <td>3.26</td>\n",
       "      <td>1.61</td>\n",
       "      <td>1.62</td>\n",
       "      <td>-0.57</td>\n",
       "      <td>-0.59</td>\n",
       "      <td>-0.42</td>\n",
       "      <td>3.12</td>\n",
       "      <td>3.91</td>\n",
       "      <td>2.10</td>\n",
       "    </tr>\n",
       "    <tr>\n",
       "      <th>2</th>\n",
       "      <td>2010-01-05</td>\n",
       "      <td>2308.709961</td>\n",
       "      <td>0.225994</td>\n",
       "      <td>0.000126</td>\n",
       "      <td>0.017306</td>\n",
       "      <td>NaN</td>\n",
       "      <td>NaN</td>\n",
       "      <td>NaN</td>\n",
       "      <td>NaN</td>\n",
       "      <td>NaN</td>\n",
       "      <td>...</td>\n",
       "      <td>-0.07</td>\n",
       "      <td>1.96</td>\n",
       "      <td>-0.20</td>\n",
       "      <td>0.31</td>\n",
       "      <td>0.43</td>\n",
       "      <td>0.03</td>\n",
       "      <td>0.12</td>\n",
       "      <td>-0.90</td>\n",
       "      <td>1.42</td>\n",
       "      <td>-0.12</td>\n",
       "    </tr>\n",
       "    <tr>\n",
       "      <th>3</th>\n",
       "      <td>2010-01-06</td>\n",
       "      <td>2301.090088</td>\n",
       "      <td>-0.048364</td>\n",
       "      <td>-0.003300</td>\n",
       "      <td>0.000126</td>\n",
       "      <td>0.017306</td>\n",
       "      <td>NaN</td>\n",
       "      <td>NaN</td>\n",
       "      <td>NaN</td>\n",
       "      <td>NaN</td>\n",
       "      <td>...</td>\n",
       "      <td>0.56</td>\n",
       "      <td>2.15</td>\n",
       "      <td>-0.02</td>\n",
       "      <td>0.07</td>\n",
       "      <td>-0.56</td>\n",
       "      <td>-0.24</td>\n",
       "      <td>-0.17</td>\n",
       "      <td>2.62</td>\n",
       "      <td>2.25</td>\n",
       "      <td>1.77</td>\n",
       "    </tr>\n",
       "    <tr>\n",
       "      <th>4</th>\n",
       "      <td>2010-01-07</td>\n",
       "      <td>2300.050049</td>\n",
       "      <td>0.007416</td>\n",
       "      <td>-0.000452</td>\n",
       "      <td>-0.003300</td>\n",
       "      <td>0.000126</td>\n",
       "      <td>0.017306</td>\n",
       "      <td>NaN</td>\n",
       "      <td>NaN</td>\n",
       "      <td>NaN</td>\n",
       "      <td>...</td>\n",
       "      <td>-0.72</td>\n",
       "      <td>0.94</td>\n",
       "      <td>0.50</td>\n",
       "      <td>0.40</td>\n",
       "      <td>0.58</td>\n",
       "      <td>0.58</td>\n",
       "      <td>0.54</td>\n",
       "      <td>-1.85</td>\n",
       "      <td>0.22</td>\n",
       "      <td>-0.58</td>\n",
       "    </tr>\n",
       "  </tbody>\n",
       "</table>\n",
       "<p>5 rows × 84 columns</p>\n",
       "</div>"
      ],
      "text/plain": [
       "        Date        Close    Volume       mom      mom1      mom2      mom3  \\\n",
       "0 2009-12-31  2269.149902       NaN       NaN       NaN       NaN       NaN   \n",
       "1 2010-01-04  2308.419922  0.560308  0.017306       NaN       NaN       NaN   \n",
       "2 2010-01-05  2308.709961  0.225994  0.000126  0.017306       NaN       NaN   \n",
       "3 2010-01-06  2301.090088 -0.048364 -0.003300  0.000126  0.017306       NaN   \n",
       "4 2010-01-07  2300.050049  0.007416 -0.000452 -0.003300  0.000126  0.017306   \n",
       "\n",
       "   ROC_5  ROC_10  ROC_15  ...   NZD  silver-F  RUSSELL-F  S&P-F   CHF  \\\n",
       "0    NaN     NaN     NaN  ...  0.03      0.26      -1.08  -1.00 -0.11   \n",
       "1    NaN     NaN     NaN  ...  1.52      3.26       1.61   1.62 -0.57   \n",
       "2    NaN     NaN     NaN  ... -0.07      1.96      -0.20   0.31  0.43   \n",
       "3    NaN     NaN     NaN  ...  0.56      2.15      -0.02   0.07 -0.56   \n",
       "4    NaN     NaN     NaN  ... -0.72      0.94       0.50   0.40  0.58   \n",
       "\n",
       "   Dollar index-F  Dollar index  wheat-F   XAG   XAU  \n",
       "0           -0.08         -0.06    -0.48  0.30  0.39  \n",
       "1           -0.59         -0.42     3.12  3.91  2.10  \n",
       "2            0.03          0.12    -0.90  1.42 -0.12  \n",
       "3           -0.24         -0.17     2.62  2.25  1.77  \n",
       "4            0.58          0.54    -1.85  0.22 -0.58  \n",
       "\n",
       "[5 rows x 84 columns]"
      ]
     },
     "execution_count": 3,
     "metadata": {},
     "output_type": "execute_result"
    }
   ],
   "source": [
    "dataset_NASDAQ.head(5)"
   ]
  },
  {
   "cell_type": "code",
   "execution_count": 4,
   "id": "9a8c936d",
   "metadata": {
    "execution": {
     "iopub.execute_input": "2022-01-10T10:48:06.696823Z",
     "iopub.status.busy": "2022-01-10T10:48:06.696193Z",
     "iopub.status.idle": "2022-01-10T10:48:06.705469Z",
     "shell.execute_reply": "2022-01-10T10:48:06.706084Z",
     "shell.execute_reply.started": "2022-01-10T10:41:40.887606Z"
    },
    "papermill": {
     "duration": 0.069614,
     "end_time": "2022-01-10T10:48:06.706250",
     "exception": false,
     "start_time": "2022-01-10T10:48:06.636636",
     "status": "completed"
    },
    "tags": []
   },
   "outputs": [
    {
     "data": {
      "text/plain": [
       "0      2009-12-31\n",
       "1      2010-01-04\n",
       "2      2010-01-05\n",
       "3      2010-01-06\n",
       "4      2010-01-07\n",
       "          ...    \n",
       "1979   2017-11-09\n",
       "1980   2017-11-10\n",
       "1981   2017-11-13\n",
       "1982   2017-11-14\n",
       "1983   2017-11-15\n",
       "Name: Date, Length: 1984, dtype: datetime64[ns]"
      ]
     },
     "execution_count": 4,
     "metadata": {},
     "output_type": "execute_result"
    }
   ],
   "source": [
    "dataset_NASDAQ['Date']"
   ]
  },
  {
   "cell_type": "code",
   "execution_count": 5,
   "id": "91e3a558",
   "metadata": {
    "execution": {
     "iopub.execute_input": "2022-01-10T10:48:06.827061Z",
     "iopub.status.busy": "2022-01-10T10:48:06.826049Z",
     "iopub.status.idle": "2022-01-10T10:48:06.830437Z",
     "shell.execute_reply": "2022-01-10T10:48:06.831080Z",
     "shell.execute_reply.started": "2022-01-10T10:41:40.896926Z"
    },
    "papermill": {
     "duration": 0.067672,
     "end_time": "2022-01-10T10:48:06.831247",
     "exception": false,
     "start_time": "2022-01-10T10:48:06.763575",
     "status": "completed"
    },
    "tags": []
   },
   "outputs": [],
   "source": [
    "dataset_NASDAQ.index = dataset_NASDAQ['Date']\n",
    "dataset_NYSE.index = dataset_NYSE['Date']\n",
    "dataset_SP.index = dataset_SP['Date']\n",
    "dataset_DJI.index = dataset_DJI['Date']\n",
    "dataset_RUSSELL.index = dataset_RUSSELL['Date']"
   ]
  },
  {
   "cell_type": "code",
   "execution_count": 6,
   "id": "155ebcef",
   "metadata": {
    "execution": {
     "iopub.execute_input": "2022-01-10T10:48:07.011615Z",
     "iopub.status.busy": "2022-01-10T10:48:07.010930Z",
     "iopub.status.idle": "2022-01-10T10:48:07.013381Z",
     "shell.execute_reply": "2022-01-10T10:48:07.013879Z",
     "shell.execute_reply.started": "2022-01-10T10:41:40.917260Z"
    },
    "papermill": {
     "duration": 0.124953,
     "end_time": "2022-01-10T10:48:07.014044",
     "exception": false,
     "start_time": "2022-01-10T10:48:06.889091",
     "status": "completed"
    },
    "tags": []
   },
   "outputs": [
    {
     "data": {
      "text/plain": [
       "DatetimeIndex(['2009-12-31', '2010-01-04', '2010-01-05', '2010-01-06',\n",
       "               '2010-01-07', '2010-01-08', '2010-01-11', '2010-01-12',\n",
       "               '2010-01-13', '2010-01-14',\n",
       "               ...\n",
       "               '2017-11-02', '2017-11-03', '2017-11-06', '2017-11-07',\n",
       "               '2017-11-08', '2017-11-09', '2017-11-10', '2017-11-13',\n",
       "               '2017-11-14', '2017-11-15'],\n",
       "              dtype='datetime64[ns]', name='Date', length=1984, freq=None)"
      ]
     },
     "execution_count": 6,
     "metadata": {},
     "output_type": "execute_result"
    }
   ],
   "source": [
    "dataset_NASDAQ.index"
   ]
  },
  {
   "cell_type": "code",
   "execution_count": 7,
   "id": "540ca00f",
   "metadata": {
    "execution": {
     "iopub.execute_input": "2022-01-10T10:48:07.137123Z",
     "iopub.status.busy": "2022-01-10T10:48:07.136413Z",
     "iopub.status.idle": "2022-01-10T10:48:07.140229Z",
     "shell.execute_reply": "2022-01-10T10:48:07.139659Z",
     "shell.execute_reply.started": "2022-01-10T10:41:40.931772Z"
    },
    "papermill": {
     "duration": 0.068758,
     "end_time": "2022-01-10T10:48:07.140370",
     "exception": false,
     "start_time": "2022-01-10T10:48:07.071612",
     "status": "completed"
    },
    "tags": []
   },
   "outputs": [
    {
     "data": {
      "text/plain": [
       "Date\n",
       "2009-12-31   2009-12-31\n",
       "2010-01-04   2010-01-04\n",
       "2010-01-05   2010-01-05\n",
       "2010-01-06   2010-01-06\n",
       "2010-01-07   2010-01-07\n",
       "                ...    \n",
       "2017-11-09   2017-11-09\n",
       "2017-11-10   2017-11-10\n",
       "2017-11-13   2017-11-13\n",
       "2017-11-14   2017-11-14\n",
       "2017-11-15   2017-11-15\n",
       "Name: Date, Length: 1984, dtype: datetime64[ns]"
      ]
     },
     "execution_count": 7,
     "metadata": {},
     "output_type": "execute_result"
    }
   ],
   "source": [
    "dataset_NASDAQ['Date']"
   ]
  },
  {
   "cell_type": "code",
   "execution_count": 8,
   "id": "b81da344",
   "metadata": {
    "execution": {
     "iopub.execute_input": "2022-01-10T10:48:07.263685Z",
     "iopub.status.busy": "2022-01-10T10:48:07.263037Z",
     "iopub.status.idle": "2022-01-10T10:48:07.265470Z",
     "shell.execute_reply": "2022-01-10T10:48:07.266040Z",
     "shell.execute_reply.started": "2022-01-10T10:41:40.948243Z"
    },
    "papermill": {
     "duration": 0.067245,
     "end_time": "2022-01-10T10:48:07.266213",
     "exception": false,
     "start_time": "2022-01-10T10:48:07.198968",
     "status": "completed"
    },
    "tags": []
   },
   "outputs": [
    {
     "data": {
      "text/plain": [
       "Index(['Date', 'Close', 'Volume', 'mom', 'mom1', 'mom2', 'mom3', 'ROC_5',\n",
       "       'ROC_10', 'ROC_15', 'ROC_20', 'EMA_10', 'EMA_20', 'EMA_50', 'EMA_200',\n",
       "       'DTB4WK', 'DTB3', 'DTB6', 'DGS5', 'DGS10', 'Oil', 'Gold', 'DAAA',\n",
       "       'DBAA', 'GBP', 'JPY', 'CAD', 'CNY', 'AAPL', 'AMZN', 'GE', 'JNJ', 'JPM',\n",
       "       'MSFT', 'WFC', 'XOM', 'FCHI', 'FTSE', 'GDAXI', 'GSPC', 'HSI', 'DJI',\n",
       "       'SSEC', 'RUT', 'NYSE', 'TE1', 'TE2', 'TE3', 'TE5', 'TE6', 'DE1', 'DE2',\n",
       "       'DE4', 'DE5', 'DE6', 'CTB3M', 'CTB6M', 'CTB1Y', 'Name', 'AUD', 'Brent',\n",
       "       'CAC-F', 'copper-F', 'WIT-oil', 'DAX-F', 'DJI-F', 'EUR', 'FTSE-F',\n",
       "       'gold-F', 'HSI-F', 'KOSPI-F', 'NASDAQ-F', 'GAS-F', 'Nikkei-F', 'NZD',\n",
       "       'silver-F', 'RUSSELL-F', 'S&P-F', 'CHF', 'Dollar index-F',\n",
       "       'Dollar index', 'wheat-F', 'XAG', 'XAU'],\n",
       "      dtype='object')"
      ]
     },
     "execution_count": 8,
     "metadata": {},
     "output_type": "execute_result"
    }
   ],
   "source": [
    "dataset_NASDAQ.columns"
   ]
  },
  {
   "cell_type": "code",
   "execution_count": 9,
   "id": "67ac2100",
   "metadata": {
    "execution": {
     "iopub.execute_input": "2022-01-10T10:48:07.387988Z",
     "iopub.status.busy": "2022-01-10T10:48:07.387341Z",
     "iopub.status.idle": "2022-01-10T10:48:07.389984Z",
     "shell.execute_reply": "2022-01-10T10:48:07.390437Z",
     "shell.execute_reply.started": "2022-01-10T10:41:40.962428Z"
    },
    "papermill": {
     "duration": 0.065644,
     "end_time": "2022-01-10T10:48:07.390613",
     "exception": false,
     "start_time": "2022-01-10T10:48:07.324969",
     "status": "completed"
    },
    "tags": []
   },
   "outputs": [],
   "source": [
    "# del dataset_NASDAQ['Name'] # Deletes \"Name\" column"
   ]
  },
  {
   "cell_type": "code",
   "execution_count": 10,
   "id": "a3802f39",
   "metadata": {
    "execution": {
     "iopub.execute_input": "2022-01-10T10:48:07.513757Z",
     "iopub.status.busy": "2022-01-10T10:48:07.513116Z",
     "iopub.status.idle": "2022-01-10T10:48:07.515553Z",
     "shell.execute_reply": "2022-01-10T10:48:07.516048Z",
     "shell.execute_reply.started": "2022-01-10T10:41:40.975053Z"
    },
    "papermill": {
     "duration": 0.067195,
     "end_time": "2022-01-10T10:48:07.516216",
     "exception": false,
     "start_time": "2022-01-10T10:48:07.449021",
     "status": "completed"
    },
    "tags": []
   },
   "outputs": [
    {
     "data": {
      "text/plain": [
       "Index(['Date', 'Close', 'Volume', 'mom', 'mom1', 'mom2', 'mom3', 'ROC_5',\n",
       "       'ROC_10', 'ROC_15', 'ROC_20', 'EMA_10', 'EMA_20', 'EMA_50', 'EMA_200',\n",
       "       'DTB4WK', 'DTB3', 'DTB6', 'DGS5', 'DGS10', 'Oil', 'Gold', 'DAAA',\n",
       "       'DBAA', 'GBP', 'JPY', 'CAD', 'CNY', 'AAPL', 'AMZN', 'GE', 'JNJ', 'JPM',\n",
       "       'MSFT', 'WFC', 'XOM', 'FCHI', 'FTSE', 'GDAXI', 'GSPC', 'HSI', 'DJI',\n",
       "       'SSEC', 'RUT', 'NYSE', 'TE1', 'TE2', 'TE3', 'TE5', 'TE6', 'DE1', 'DE2',\n",
       "       'DE4', 'DE5', 'DE6', 'CTB3M', 'CTB6M', 'CTB1Y', 'Name', 'AUD', 'Brent',\n",
       "       'CAC-F', 'copper-F', 'WIT-oil', 'DAX-F', 'DJI-F', 'EUR', 'FTSE-F',\n",
       "       'gold-F', 'HSI-F', 'KOSPI-F', 'NASDAQ-F', 'GAS-F', 'Nikkei-F', 'NZD',\n",
       "       'silver-F', 'RUSSELL-F', 'S&P-F', 'CHF', 'Dollar index-F',\n",
       "       'Dollar index', 'wheat-F', 'XAG', 'XAU'],\n",
       "      dtype='object')"
      ]
     },
     "execution_count": 10,
     "metadata": {},
     "output_type": "execute_result"
    }
   ],
   "source": [
    "dataset_NASDAQ.columns"
   ]
  },
  {
   "cell_type": "code",
   "execution_count": 11,
   "id": "106f8218",
   "metadata": {
    "execution": {
     "iopub.execute_input": "2022-01-10T10:48:07.645327Z",
     "iopub.status.busy": "2022-01-10T10:48:07.644633Z",
     "iopub.status.idle": "2022-01-10T10:48:07.677076Z",
     "shell.execute_reply": "2022-01-10T10:48:07.677623Z",
     "shell.execute_reply.started": "2022-01-10T10:41:40.989085Z"
    },
    "papermill": {
     "duration": 0.102082,
     "end_time": "2022-01-10T10:48:07.677821",
     "exception": false,
     "start_time": "2022-01-10T10:48:07.575739",
     "status": "completed"
    },
    "tags": []
   },
   "outputs": [
    {
     "data": {
      "text/html": [
       "<div>\n",
       "<style scoped>\n",
       "    .dataframe tbody tr th:only-of-type {\n",
       "        vertical-align: middle;\n",
       "    }\n",
       "\n",
       "    .dataframe tbody tr th {\n",
       "        vertical-align: top;\n",
       "    }\n",
       "\n",
       "    .dataframe thead th {\n",
       "        text-align: right;\n",
       "    }\n",
       "</style>\n",
       "<table border=\"1\" class=\"dataframe\">\n",
       "  <thead>\n",
       "    <tr style=\"text-align: right;\">\n",
       "      <th></th>\n",
       "      <th>Date</th>\n",
       "      <th>Close</th>\n",
       "      <th>Volume</th>\n",
       "      <th>mom</th>\n",
       "      <th>mom1</th>\n",
       "      <th>mom2</th>\n",
       "      <th>mom3</th>\n",
       "      <th>ROC_5</th>\n",
       "      <th>ROC_10</th>\n",
       "      <th>ROC_15</th>\n",
       "      <th>...</th>\n",
       "      <th>NZD</th>\n",
       "      <th>silver-F</th>\n",
       "      <th>RUSSELL-F</th>\n",
       "      <th>S&amp;P-F</th>\n",
       "      <th>CHF</th>\n",
       "      <th>Dollar index-F</th>\n",
       "      <th>Dollar index</th>\n",
       "      <th>wheat-F</th>\n",
       "      <th>XAG</th>\n",
       "      <th>XAU</th>\n",
       "    </tr>\n",
       "    <tr>\n",
       "      <th>Date</th>\n",
       "      <th></th>\n",
       "      <th></th>\n",
       "      <th></th>\n",
       "      <th></th>\n",
       "      <th></th>\n",
       "      <th></th>\n",
       "      <th></th>\n",
       "      <th></th>\n",
       "      <th></th>\n",
       "      <th></th>\n",
       "      <th></th>\n",
       "      <th></th>\n",
       "      <th></th>\n",
       "      <th></th>\n",
       "      <th></th>\n",
       "      <th></th>\n",
       "      <th></th>\n",
       "      <th></th>\n",
       "      <th></th>\n",
       "      <th></th>\n",
       "      <th></th>\n",
       "    </tr>\n",
       "  </thead>\n",
       "  <tbody>\n",
       "    <tr>\n",
       "      <th>2009-12-31</th>\n",
       "      <td>2009-12-31</td>\n",
       "      <td>2269.149902</td>\n",
       "      <td>NaN</td>\n",
       "      <td>NaN</td>\n",
       "      <td>NaN</td>\n",
       "      <td>NaN</td>\n",
       "      <td>NaN</td>\n",
       "      <td>NaN</td>\n",
       "      <td>NaN</td>\n",
       "      <td>NaN</td>\n",
       "      <td>...</td>\n",
       "      <td>0.03</td>\n",
       "      <td>0.26</td>\n",
       "      <td>-1.08</td>\n",
       "      <td>-1.00</td>\n",
       "      <td>-0.11</td>\n",
       "      <td>-0.08</td>\n",
       "      <td>-0.06</td>\n",
       "      <td>-0.48</td>\n",
       "      <td>0.30</td>\n",
       "      <td>0.39</td>\n",
       "    </tr>\n",
       "    <tr>\n",
       "      <th>2010-01-04</th>\n",
       "      <td>2010-01-04</td>\n",
       "      <td>2308.419922</td>\n",
       "      <td>0.560308</td>\n",
       "      <td>0.017306</td>\n",
       "      <td>NaN</td>\n",
       "      <td>NaN</td>\n",
       "      <td>NaN</td>\n",
       "      <td>NaN</td>\n",
       "      <td>NaN</td>\n",
       "      <td>NaN</td>\n",
       "      <td>...</td>\n",
       "      <td>1.52</td>\n",
       "      <td>3.26</td>\n",
       "      <td>1.61</td>\n",
       "      <td>1.62</td>\n",
       "      <td>-0.57</td>\n",
       "      <td>-0.59</td>\n",
       "      <td>-0.42</td>\n",
       "      <td>3.12</td>\n",
       "      <td>3.91</td>\n",
       "      <td>2.10</td>\n",
       "    </tr>\n",
       "    <tr>\n",
       "      <th>2010-01-05</th>\n",
       "      <td>2010-01-05</td>\n",
       "      <td>2308.709961</td>\n",
       "      <td>0.225994</td>\n",
       "      <td>0.000126</td>\n",
       "      <td>0.017306</td>\n",
       "      <td>NaN</td>\n",
       "      <td>NaN</td>\n",
       "      <td>NaN</td>\n",
       "      <td>NaN</td>\n",
       "      <td>NaN</td>\n",
       "      <td>...</td>\n",
       "      <td>-0.07</td>\n",
       "      <td>1.96</td>\n",
       "      <td>-0.20</td>\n",
       "      <td>0.31</td>\n",
       "      <td>0.43</td>\n",
       "      <td>0.03</td>\n",
       "      <td>0.12</td>\n",
       "      <td>-0.90</td>\n",
       "      <td>1.42</td>\n",
       "      <td>-0.12</td>\n",
       "    </tr>\n",
       "    <tr>\n",
       "      <th>2010-01-06</th>\n",
       "      <td>2010-01-06</td>\n",
       "      <td>2301.090088</td>\n",
       "      <td>-0.048364</td>\n",
       "      <td>-0.003300</td>\n",
       "      <td>0.000126</td>\n",
       "      <td>0.017306</td>\n",
       "      <td>NaN</td>\n",
       "      <td>NaN</td>\n",
       "      <td>NaN</td>\n",
       "      <td>NaN</td>\n",
       "      <td>...</td>\n",
       "      <td>0.56</td>\n",
       "      <td>2.15</td>\n",
       "      <td>-0.02</td>\n",
       "      <td>0.07</td>\n",
       "      <td>-0.56</td>\n",
       "      <td>-0.24</td>\n",
       "      <td>-0.17</td>\n",
       "      <td>2.62</td>\n",
       "      <td>2.25</td>\n",
       "      <td>1.77</td>\n",
       "    </tr>\n",
       "    <tr>\n",
       "      <th>2010-01-07</th>\n",
       "      <td>2010-01-07</td>\n",
       "      <td>2300.050049</td>\n",
       "      <td>0.007416</td>\n",
       "      <td>-0.000452</td>\n",
       "      <td>-0.003300</td>\n",
       "      <td>0.000126</td>\n",
       "      <td>0.017306</td>\n",
       "      <td>NaN</td>\n",
       "      <td>NaN</td>\n",
       "      <td>NaN</td>\n",
       "      <td>...</td>\n",
       "      <td>-0.72</td>\n",
       "      <td>0.94</td>\n",
       "      <td>0.50</td>\n",
       "      <td>0.40</td>\n",
       "      <td>0.58</td>\n",
       "      <td>0.58</td>\n",
       "      <td>0.54</td>\n",
       "      <td>-1.85</td>\n",
       "      <td>0.22</td>\n",
       "      <td>-0.58</td>\n",
       "    </tr>\n",
       "    <tr>\n",
       "      <th>...</th>\n",
       "      <td>...</td>\n",
       "      <td>...</td>\n",
       "      <td>...</td>\n",
       "      <td>...</td>\n",
       "      <td>...</td>\n",
       "      <td>...</td>\n",
       "      <td>...</td>\n",
       "      <td>...</td>\n",
       "      <td>...</td>\n",
       "      <td>...</td>\n",
       "      <td>...</td>\n",
       "      <td>...</td>\n",
       "      <td>...</td>\n",
       "      <td>...</td>\n",
       "      <td>...</td>\n",
       "      <td>...</td>\n",
       "      <td>...</td>\n",
       "      <td>...</td>\n",
       "      <td>...</td>\n",
       "      <td>...</td>\n",
       "      <td>...</td>\n",
       "    </tr>\n",
       "    <tr>\n",
       "      <th>2017-11-09</th>\n",
       "      <td>2017-11-09</td>\n",
       "      <td>6750.049805</td>\n",
       "      <td>0.058830</td>\n",
       "      <td>-0.005755</td>\n",
       "      <td>0.003153</td>\n",
       "      <td>-0.002750</td>\n",
       "      <td>0.003252</td>\n",
       "      <td>0.522862</td>\n",
       "      <td>2.947790</td>\n",
       "      <td>2.194980</td>\n",
       "      <td>...</td>\n",
       "      <td>-0.24</td>\n",
       "      <td>-0.62</td>\n",
       "      <td>-0.34</td>\n",
       "      <td>-0.27</td>\n",
       "      <td>-0.61</td>\n",
       "      <td>-0.44</td>\n",
       "      <td>-0.45</td>\n",
       "      <td>0.53</td>\n",
       "      <td>-0.26</td>\n",
       "      <td>0.32</td>\n",
       "    </tr>\n",
       "    <tr>\n",
       "      <th>2017-11-10</th>\n",
       "      <td>2017-11-10</td>\n",
       "      <td>6750.939941</td>\n",
       "      <td>-0.116863</td>\n",
       "      <td>0.000132</td>\n",
       "      <td>-0.005755</td>\n",
       "      <td>0.003153</td>\n",
       "      <td>-0.002750</td>\n",
       "      <td>-0.199573</td>\n",
       "      <td>0.741356</td>\n",
       "      <td>1.838727</td>\n",
       "      <td>...</td>\n",
       "      <td>-0.27</td>\n",
       "      <td>-0.58</td>\n",
       "      <td>-0.20</td>\n",
       "      <td>-0.17</td>\n",
       "      <td>0.18</td>\n",
       "      <td>-0.07</td>\n",
       "      <td>-0.05</td>\n",
       "      <td>0.70</td>\n",
       "      <td>-0.71</td>\n",
       "      <td>-0.80</td>\n",
       "    </tr>\n",
       "    <tr>\n",
       "      <th>2017-11-13</th>\n",
       "      <td>2017-11-13</td>\n",
       "      <td>6757.600098</td>\n",
       "      <td>-0.000091</td>\n",
       "      <td>0.000987</td>\n",
       "      <td>0.000132</td>\n",
       "      <td>-0.005755</td>\n",
       "      <td>0.003153</td>\n",
       "      <td>-0.424963</td>\n",
       "      <td>0.875362</td>\n",
       "      <td>2.592598</td>\n",
       "      <td>...</td>\n",
       "      <td>-0.38</td>\n",
       "      <td>0.72</td>\n",
       "      <td>-0.04</td>\n",
       "      <td>0.10</td>\n",
       "      <td>0.06</td>\n",
       "      <td>0.12</td>\n",
       "      <td>0.11</td>\n",
       "      <td>-1.85</td>\n",
       "      <td>0.83</td>\n",
       "      <td>0.16</td>\n",
       "    </tr>\n",
       "    <tr>\n",
       "      <th>2017-11-14</th>\n",
       "      <td>2017-11-14</td>\n",
       "      <td>6737.870117</td>\n",
       "      <td>0.005087</td>\n",
       "      <td>-0.002920</td>\n",
       "      <td>0.000987</td>\n",
       "      <td>0.000132</td>\n",
       "      <td>-0.005755</td>\n",
       "      <td>-0.441942</td>\n",
       "      <td>0.151616</td>\n",
       "      <td>2.113229</td>\n",
       "      <td>...</td>\n",
       "      <td>-0.39</td>\n",
       "      <td>0.17</td>\n",
       "      <td>-0.21</td>\n",
       "      <td>-0.15</td>\n",
       "      <td>-0.70</td>\n",
       "      <td>-0.71</td>\n",
       "      <td>-0.70</td>\n",
       "      <td>1.00</td>\n",
       "      <td>0.01</td>\n",
       "      <td>0.24</td>\n",
       "    </tr>\n",
       "    <tr>\n",
       "      <th>2017-11-15</th>\n",
       "      <td>2017-11-15</td>\n",
       "      <td>6706.209961</td>\n",
       "      <td>-0.037891</td>\n",
       "      <td>-0.004699</td>\n",
       "      <td>-0.002920</td>\n",
       "      <td>0.000987</td>\n",
       "      <td>0.000132</td>\n",
       "      <td>-1.221221</td>\n",
       "      <td>-0.153648</td>\n",
       "      <td>2.168224</td>\n",
       "      <td>...</td>\n",
       "      <td>0.03</td>\n",
       "      <td>-0.60</td>\n",
       "      <td>-0.46</td>\n",
       "      <td>-0.50</td>\n",
       "      <td>-0.11</td>\n",
       "      <td>0.01</td>\n",
       "      <td>-0.02</td>\n",
       "      <td>-2.04</td>\n",
       "      <td>-0.22</td>\n",
       "      <td>-0.11</td>\n",
       "    </tr>\n",
       "  </tbody>\n",
       "</table>\n",
       "<p>1984 rows × 84 columns</p>\n",
       "</div>"
      ],
      "text/plain": [
       "                 Date        Close    Volume       mom      mom1      mom2  \\\n",
       "Date                                                                         \n",
       "2009-12-31 2009-12-31  2269.149902       NaN       NaN       NaN       NaN   \n",
       "2010-01-04 2010-01-04  2308.419922  0.560308  0.017306       NaN       NaN   \n",
       "2010-01-05 2010-01-05  2308.709961  0.225994  0.000126  0.017306       NaN   \n",
       "2010-01-06 2010-01-06  2301.090088 -0.048364 -0.003300  0.000126  0.017306   \n",
       "2010-01-07 2010-01-07  2300.050049  0.007416 -0.000452 -0.003300  0.000126   \n",
       "...               ...          ...       ...       ...       ...       ...   \n",
       "2017-11-09 2017-11-09  6750.049805  0.058830 -0.005755  0.003153 -0.002750   \n",
       "2017-11-10 2017-11-10  6750.939941 -0.116863  0.000132 -0.005755  0.003153   \n",
       "2017-11-13 2017-11-13  6757.600098 -0.000091  0.000987  0.000132 -0.005755   \n",
       "2017-11-14 2017-11-14  6737.870117  0.005087 -0.002920  0.000987  0.000132   \n",
       "2017-11-15 2017-11-15  6706.209961 -0.037891 -0.004699 -0.002920  0.000987   \n",
       "\n",
       "                mom3     ROC_5    ROC_10    ROC_15  ...   NZD  silver-F  \\\n",
       "Date                                                ...                   \n",
       "2009-12-31       NaN       NaN       NaN       NaN  ...  0.03      0.26   \n",
       "2010-01-04       NaN       NaN       NaN       NaN  ...  1.52      3.26   \n",
       "2010-01-05       NaN       NaN       NaN       NaN  ... -0.07      1.96   \n",
       "2010-01-06       NaN       NaN       NaN       NaN  ...  0.56      2.15   \n",
       "2010-01-07  0.017306       NaN       NaN       NaN  ... -0.72      0.94   \n",
       "...              ...       ...       ...       ...  ...   ...       ...   \n",
       "2017-11-09  0.003252  0.522862  2.947790  2.194980  ... -0.24     -0.62   \n",
       "2017-11-10 -0.002750 -0.199573  0.741356  1.838727  ... -0.27     -0.58   \n",
       "2017-11-13  0.003153 -0.424963  0.875362  2.592598  ... -0.38      0.72   \n",
       "2017-11-14 -0.005755 -0.441942  0.151616  2.113229  ... -0.39      0.17   \n",
       "2017-11-15  0.000132 -1.221221 -0.153648  2.168224  ...  0.03     -0.60   \n",
       "\n",
       "            RUSSELL-F  S&P-F   CHF  Dollar index-F  Dollar index  wheat-F  \\\n",
       "Date                                                                        \n",
       "2009-12-31      -1.08  -1.00 -0.11           -0.08         -0.06    -0.48   \n",
       "2010-01-04       1.61   1.62 -0.57           -0.59         -0.42     3.12   \n",
       "2010-01-05      -0.20   0.31  0.43            0.03          0.12    -0.90   \n",
       "2010-01-06      -0.02   0.07 -0.56           -0.24         -0.17     2.62   \n",
       "2010-01-07       0.50   0.40  0.58            0.58          0.54    -1.85   \n",
       "...               ...    ...   ...             ...           ...      ...   \n",
       "2017-11-09      -0.34  -0.27 -0.61           -0.44         -0.45     0.53   \n",
       "2017-11-10      -0.20  -0.17  0.18           -0.07         -0.05     0.70   \n",
       "2017-11-13      -0.04   0.10  0.06            0.12          0.11    -1.85   \n",
       "2017-11-14      -0.21  -0.15 -0.70           -0.71         -0.70     1.00   \n",
       "2017-11-15      -0.46  -0.50 -0.11            0.01         -0.02    -2.04   \n",
       "\n",
       "             XAG   XAU  \n",
       "Date                    \n",
       "2009-12-31  0.30  0.39  \n",
       "2010-01-04  3.91  2.10  \n",
       "2010-01-05  1.42 -0.12  \n",
       "2010-01-06  2.25  1.77  \n",
       "2010-01-07  0.22 -0.58  \n",
       "...          ...   ...  \n",
       "2017-11-09 -0.26  0.32  \n",
       "2017-11-10 -0.71 -0.80  \n",
       "2017-11-13  0.83  0.16  \n",
       "2017-11-14  0.01  0.24  \n",
       "2017-11-15 -0.22 -0.11  \n",
       "\n",
       "[1984 rows x 84 columns]"
      ]
     },
     "execution_count": 11,
     "metadata": {},
     "output_type": "execute_result"
    }
   ],
   "source": [
    "dataset_NASDAQ"
   ]
  },
  {
   "cell_type": "code",
   "execution_count": 12,
   "id": "02aa0030",
   "metadata": {
    "execution": {
     "iopub.execute_input": "2022-01-10T10:48:07.801030Z",
     "iopub.status.busy": "2022-01-10T10:48:07.800381Z",
     "iopub.status.idle": "2022-01-10T10:48:07.805645Z",
     "shell.execute_reply": "2022-01-10T10:48:07.806241Z",
     "shell.execute_reply.started": "2022-01-10T10:41:41.031961Z"
    },
    "papermill": {
     "duration": 0.068544,
     "end_time": "2022-01-10T10:48:07.806403",
     "exception": false,
     "start_time": "2022-01-10T10:48:07.737859",
     "status": "completed"
    },
    "tags": []
   },
   "outputs": [
    {
     "name": "stdout",
     "output_type": "stream",
     "text": [
      "(1984, 84)\n",
      "(1984, 84)\n",
      "(1984, 84)\n",
      "(1984, 84)\n",
      "(1984, 84)\n"
     ]
    }
   ],
   "source": [
    "print(dataset_NASDAQ.shape)\n",
    "print(dataset_NYSE.shape)\n",
    "print(dataset_SP.shape)\n",
    "print(dataset_DJI.shape)\n",
    "print(dataset_RUSSELL.shape)"
   ]
  },
  {
   "cell_type": "markdown",
   "id": "e5d4f7fd",
   "metadata": {
    "execution": {
     "iopub.execute_input": "2021-11-27T18:21:00.088152Z",
     "iopub.status.busy": "2021-11-27T18:21:00.087881Z",
     "iopub.status.idle": "2021-11-27T18:21:00.092961Z",
     "shell.execute_reply": "2021-11-27T18:21:00.0917Z",
     "shell.execute_reply.started": "2021-11-27T18:21:00.088125Z"
    },
    "papermill": {
     "duration": 0.060807,
     "end_time": "2022-01-10T10:48:07.927769",
     "exception": false,
     "start_time": "2022-01-10T10:48:07.866962",
     "status": "completed"
    },
    "tags": []
   },
   "source": [
    "## Data Preparation"
   ]
  },
  {
   "cell_type": "code",
   "execution_count": 13,
   "id": "ae7d1b92",
   "metadata": {
    "execution": {
     "iopub.execute_input": "2022-01-10T10:48:08.054170Z",
     "iopub.status.busy": "2022-01-10T10:48:08.053478Z",
     "iopub.status.idle": "2022-01-10T10:48:08.067456Z",
     "shell.execute_reply": "2022-01-10T10:48:08.066744Z",
     "shell.execute_reply.started": "2022-01-10T10:41:41.040522Z"
    },
    "papermill": {
     "duration": 0.079152,
     "end_time": "2022-01-10T10:48:08.067621",
     "exception": false,
     "start_time": "2022-01-10T10:48:07.988469",
     "status": "completed"
    },
    "tags": []
   },
   "outputs": [],
   "source": [
    "whole_data = dataset_NASDAQ.append(dataset_NYSE, ignore_index=True)"
   ]
  },
  {
   "cell_type": "code",
   "execution_count": 14,
   "id": "0c96d1a2",
   "metadata": {
    "execution": {
     "iopub.execute_input": "2022-01-10T10:48:08.192828Z",
     "iopub.status.busy": "2022-01-10T10:48:08.191759Z",
     "iopub.status.idle": "2022-01-10T10:48:08.227987Z",
     "shell.execute_reply": "2022-01-10T10:48:08.228488Z",
     "shell.execute_reply.started": "2022-01-10T10:41:41.062029Z"
    },
    "papermill": {
     "duration": 0.100533,
     "end_time": "2022-01-10T10:48:08.228668",
     "exception": false,
     "start_time": "2022-01-10T10:48:08.128135",
     "status": "completed"
    },
    "tags": []
   },
   "outputs": [
    {
     "data": {
      "text/html": [
       "<div>\n",
       "<style scoped>\n",
       "    .dataframe tbody tr th:only-of-type {\n",
       "        vertical-align: middle;\n",
       "    }\n",
       "\n",
       "    .dataframe tbody tr th {\n",
       "        vertical-align: top;\n",
       "    }\n",
       "\n",
       "    .dataframe thead th {\n",
       "        text-align: right;\n",
       "    }\n",
       "</style>\n",
       "<table border=\"1\" class=\"dataframe\">\n",
       "  <thead>\n",
       "    <tr style=\"text-align: right;\">\n",
       "      <th></th>\n",
       "      <th>Date</th>\n",
       "      <th>Close</th>\n",
       "      <th>Volume</th>\n",
       "      <th>mom</th>\n",
       "      <th>mom1</th>\n",
       "      <th>mom2</th>\n",
       "      <th>mom3</th>\n",
       "      <th>ROC_5</th>\n",
       "      <th>ROC_10</th>\n",
       "      <th>ROC_15</th>\n",
       "      <th>...</th>\n",
       "      <th>RUSSELL-F</th>\n",
       "      <th>S&amp;P-F</th>\n",
       "      <th>CHF</th>\n",
       "      <th>Dollar index-F</th>\n",
       "      <th>Dollar index</th>\n",
       "      <th>wheat-F</th>\n",
       "      <th>XAG</th>\n",
       "      <th>XAU</th>\n",
       "      <th>IXIC</th>\n",
       "      <th>S&amp;P</th>\n",
       "    </tr>\n",
       "  </thead>\n",
       "  <tbody>\n",
       "    <tr>\n",
       "      <th>0</th>\n",
       "      <td>2009-12-31</td>\n",
       "      <td>2269.149902</td>\n",
       "      <td>NaN</td>\n",
       "      <td>NaN</td>\n",
       "      <td>NaN</td>\n",
       "      <td>NaN</td>\n",
       "      <td>NaN</td>\n",
       "      <td>NaN</td>\n",
       "      <td>NaN</td>\n",
       "      <td>NaN</td>\n",
       "      <td>...</td>\n",
       "      <td>-1.08</td>\n",
       "      <td>-1.00</td>\n",
       "      <td>-0.11</td>\n",
       "      <td>-0.08</td>\n",
       "      <td>-0.06</td>\n",
       "      <td>-0.48</td>\n",
       "      <td>0.30</td>\n",
       "      <td>0.39</td>\n",
       "      <td>NaN</td>\n",
       "      <td>NaN</td>\n",
       "    </tr>\n",
       "    <tr>\n",
       "      <th>1</th>\n",
       "      <td>2010-01-04</td>\n",
       "      <td>2308.419922</td>\n",
       "      <td>0.560308</td>\n",
       "      <td>0.017306</td>\n",
       "      <td>NaN</td>\n",
       "      <td>NaN</td>\n",
       "      <td>NaN</td>\n",
       "      <td>NaN</td>\n",
       "      <td>NaN</td>\n",
       "      <td>NaN</td>\n",
       "      <td>...</td>\n",
       "      <td>1.61</td>\n",
       "      <td>1.62</td>\n",
       "      <td>-0.57</td>\n",
       "      <td>-0.59</td>\n",
       "      <td>-0.42</td>\n",
       "      <td>3.12</td>\n",
       "      <td>3.91</td>\n",
       "      <td>2.10</td>\n",
       "      <td>NaN</td>\n",
       "      <td>NaN</td>\n",
       "    </tr>\n",
       "    <tr>\n",
       "      <th>2</th>\n",
       "      <td>2010-01-05</td>\n",
       "      <td>2308.709961</td>\n",
       "      <td>0.225994</td>\n",
       "      <td>0.000126</td>\n",
       "      <td>0.017306</td>\n",
       "      <td>NaN</td>\n",
       "      <td>NaN</td>\n",
       "      <td>NaN</td>\n",
       "      <td>NaN</td>\n",
       "      <td>NaN</td>\n",
       "      <td>...</td>\n",
       "      <td>-0.20</td>\n",
       "      <td>0.31</td>\n",
       "      <td>0.43</td>\n",
       "      <td>0.03</td>\n",
       "      <td>0.12</td>\n",
       "      <td>-0.90</td>\n",
       "      <td>1.42</td>\n",
       "      <td>-0.12</td>\n",
       "      <td>NaN</td>\n",
       "      <td>NaN</td>\n",
       "    </tr>\n",
       "    <tr>\n",
       "      <th>3</th>\n",
       "      <td>2010-01-06</td>\n",
       "      <td>2301.090088</td>\n",
       "      <td>-0.048364</td>\n",
       "      <td>-0.003300</td>\n",
       "      <td>0.000126</td>\n",
       "      <td>0.017306</td>\n",
       "      <td>NaN</td>\n",
       "      <td>NaN</td>\n",
       "      <td>NaN</td>\n",
       "      <td>NaN</td>\n",
       "      <td>...</td>\n",
       "      <td>-0.02</td>\n",
       "      <td>0.07</td>\n",
       "      <td>-0.56</td>\n",
       "      <td>-0.24</td>\n",
       "      <td>-0.17</td>\n",
       "      <td>2.62</td>\n",
       "      <td>2.25</td>\n",
       "      <td>1.77</td>\n",
       "      <td>NaN</td>\n",
       "      <td>NaN</td>\n",
       "    </tr>\n",
       "    <tr>\n",
       "      <th>4</th>\n",
       "      <td>2010-01-07</td>\n",
       "      <td>2300.050049</td>\n",
       "      <td>0.007416</td>\n",
       "      <td>-0.000452</td>\n",
       "      <td>-0.003300</td>\n",
       "      <td>0.000126</td>\n",
       "      <td>0.017306</td>\n",
       "      <td>NaN</td>\n",
       "      <td>NaN</td>\n",
       "      <td>NaN</td>\n",
       "      <td>...</td>\n",
       "      <td>0.50</td>\n",
       "      <td>0.40</td>\n",
       "      <td>0.58</td>\n",
       "      <td>0.58</td>\n",
       "      <td>0.54</td>\n",
       "      <td>-1.85</td>\n",
       "      <td>0.22</td>\n",
       "      <td>-0.58</td>\n",
       "      <td>NaN</td>\n",
       "      <td>NaN</td>\n",
       "    </tr>\n",
       "    <tr>\n",
       "      <th>...</th>\n",
       "      <td>...</td>\n",
       "      <td>...</td>\n",
       "      <td>...</td>\n",
       "      <td>...</td>\n",
       "      <td>...</td>\n",
       "      <td>...</td>\n",
       "      <td>...</td>\n",
       "      <td>...</td>\n",
       "      <td>...</td>\n",
       "      <td>...</td>\n",
       "      <td>...</td>\n",
       "      <td>...</td>\n",
       "      <td>...</td>\n",
       "      <td>...</td>\n",
       "      <td>...</td>\n",
       "      <td>...</td>\n",
       "      <td>...</td>\n",
       "      <td>...</td>\n",
       "      <td>...</td>\n",
       "      <td>...</td>\n",
       "      <td>...</td>\n",
       "    </tr>\n",
       "    <tr>\n",
       "      <th>3963</th>\n",
       "      <td>2017-11-09</td>\n",
       "      <td>12339.660156</td>\n",
       "      <td>-0.017375</td>\n",
       "      <td>-0.003638</td>\n",
       "      <td>0.001089</td>\n",
       "      <td>-0.002393</td>\n",
       "      <td>0.002252</td>\n",
       "      <td>-0.269134</td>\n",
       "      <td>-0.103377</td>\n",
       "      <td>-0.328426</td>\n",
       "      <td>...</td>\n",
       "      <td>-0.34</td>\n",
       "      <td>-0.27</td>\n",
       "      <td>-0.61</td>\n",
       "      <td>-0.44</td>\n",
       "      <td>-0.45</td>\n",
       "      <td>0.53</td>\n",
       "      <td>-0.26</td>\n",
       "      <td>0.32</td>\n",
       "      <td>-0.005755</td>\n",
       "      <td>-0.003762</td>\n",
       "    </tr>\n",
       "    <tr>\n",
       "      <th>3964</th>\n",
       "      <td>2017-11-10</td>\n",
       "      <td>12322.599609</td>\n",
       "      <td>-0.089962</td>\n",
       "      <td>-0.001383</td>\n",
       "      <td>-0.003638</td>\n",
       "      <td>0.001089</td>\n",
       "      <td>-0.002393</td>\n",
       "      <td>-0.407821</td>\n",
       "      <td>-0.354428</td>\n",
       "      <td>-0.868185</td>\n",
       "      <td>...</td>\n",
       "      <td>-0.20</td>\n",
       "      <td>-0.17</td>\n",
       "      <td>0.18</td>\n",
       "      <td>-0.07</td>\n",
       "      <td>-0.05</td>\n",
       "      <td>0.70</td>\n",
       "      <td>-0.71</td>\n",
       "      <td>-0.80</td>\n",
       "      <td>0.000132</td>\n",
       "      <td>-0.000898</td>\n",
       "    </tr>\n",
       "    <tr>\n",
       "      <th>3965</th>\n",
       "      <td>2017-11-13</td>\n",
       "      <td>12316.820313</td>\n",
       "      <td>-0.024084</td>\n",
       "      <td>-0.000469</td>\n",
       "      <td>-0.001383</td>\n",
       "      <td>-0.003638</td>\n",
       "      <td>0.001089</td>\n",
       "      <td>-0.678251</td>\n",
       "      <td>-0.021506</td>\n",
       "      <td>-0.545844</td>\n",
       "      <td>...</td>\n",
       "      <td>-0.04</td>\n",
       "      <td>0.10</td>\n",
       "      <td>0.06</td>\n",
       "      <td>0.12</td>\n",
       "      <td>0.11</td>\n",
       "      <td>-1.85</td>\n",
       "      <td>0.83</td>\n",
       "      <td>0.16</td>\n",
       "      <td>0.000987</td>\n",
       "      <td>0.000984</td>\n",
       "    </tr>\n",
       "    <tr>\n",
       "      <th>3966</th>\n",
       "      <td>2017-11-14</td>\n",
       "      <td>12280.110352</td>\n",
       "      <td>0.070184</td>\n",
       "      <td>-0.002980</td>\n",
       "      <td>-0.000469</td>\n",
       "      <td>-0.001383</td>\n",
       "      <td>-0.003638</td>\n",
       "      <td>-0.736705</td>\n",
       "      <td>-0.493472</td>\n",
       "      <td>-1.006691</td>\n",
       "      <td>...</td>\n",
       "      <td>-0.21</td>\n",
       "      <td>-0.15</td>\n",
       "      <td>-0.70</td>\n",
       "      <td>-0.71</td>\n",
       "      <td>-0.70</td>\n",
       "      <td>1.00</td>\n",
       "      <td>0.01</td>\n",
       "      <td>0.24</td>\n",
       "      <td>-0.002920</td>\n",
       "      <td>-0.002310</td>\n",
       "    </tr>\n",
       "    <tr>\n",
       "      <th>3967</th>\n",
       "      <td>2017-11-15</td>\n",
       "      <td>12220.339844</td>\n",
       "      <td>-0.022755</td>\n",
       "      <td>-0.004867</td>\n",
       "      <td>-0.002980</td>\n",
       "      <td>-0.000469</td>\n",
       "      <td>-0.001383</td>\n",
       "      <td>-1.327280</td>\n",
       "      <td>-1.152968</td>\n",
       "      <td>-0.942240</td>\n",
       "      <td>...</td>\n",
       "      <td>-0.46</td>\n",
       "      <td>-0.50</td>\n",
       "      <td>-0.11</td>\n",
       "      <td>0.01</td>\n",
       "      <td>-0.02</td>\n",
       "      <td>-2.04</td>\n",
       "      <td>-0.22</td>\n",
       "      <td>-0.11</td>\n",
       "      <td>-0.004699</td>\n",
       "      <td>-0.005526</td>\n",
       "    </tr>\n",
       "  </tbody>\n",
       "</table>\n",
       "<p>3968 rows × 86 columns</p>\n",
       "</div>"
      ],
      "text/plain": [
       "           Date         Close    Volume       mom      mom1      mom2  \\\n",
       "0    2009-12-31   2269.149902       NaN       NaN       NaN       NaN   \n",
       "1    2010-01-04   2308.419922  0.560308  0.017306       NaN       NaN   \n",
       "2    2010-01-05   2308.709961  0.225994  0.000126  0.017306       NaN   \n",
       "3    2010-01-06   2301.090088 -0.048364 -0.003300  0.000126  0.017306   \n",
       "4    2010-01-07   2300.050049  0.007416 -0.000452 -0.003300  0.000126   \n",
       "...         ...           ...       ...       ...       ...       ...   \n",
       "3963 2017-11-09  12339.660156 -0.017375 -0.003638  0.001089 -0.002393   \n",
       "3964 2017-11-10  12322.599609 -0.089962 -0.001383 -0.003638  0.001089   \n",
       "3965 2017-11-13  12316.820313 -0.024084 -0.000469 -0.001383 -0.003638   \n",
       "3966 2017-11-14  12280.110352  0.070184 -0.002980 -0.000469 -0.001383   \n",
       "3967 2017-11-15  12220.339844 -0.022755 -0.004867 -0.002980 -0.000469   \n",
       "\n",
       "          mom3     ROC_5    ROC_10    ROC_15  ...  RUSSELL-F  S&P-F   CHF  \\\n",
       "0          NaN       NaN       NaN       NaN  ...      -1.08  -1.00 -0.11   \n",
       "1          NaN       NaN       NaN       NaN  ...       1.61   1.62 -0.57   \n",
       "2          NaN       NaN       NaN       NaN  ...      -0.20   0.31  0.43   \n",
       "3          NaN       NaN       NaN       NaN  ...      -0.02   0.07 -0.56   \n",
       "4     0.017306       NaN       NaN       NaN  ...       0.50   0.40  0.58   \n",
       "...        ...       ...       ...       ...  ...        ...    ...   ...   \n",
       "3963  0.002252 -0.269134 -0.103377 -0.328426  ...      -0.34  -0.27 -0.61   \n",
       "3964 -0.002393 -0.407821 -0.354428 -0.868185  ...      -0.20  -0.17  0.18   \n",
       "3965  0.001089 -0.678251 -0.021506 -0.545844  ...      -0.04   0.10  0.06   \n",
       "3966 -0.003638 -0.736705 -0.493472 -1.006691  ...      -0.21  -0.15 -0.70   \n",
       "3967 -0.001383 -1.327280 -1.152968 -0.942240  ...      -0.46  -0.50 -0.11   \n",
       "\n",
       "      Dollar index-F  Dollar index  wheat-F   XAG   XAU      IXIC       S&P  \n",
       "0              -0.08         -0.06    -0.48  0.30  0.39       NaN       NaN  \n",
       "1              -0.59         -0.42     3.12  3.91  2.10       NaN       NaN  \n",
       "2               0.03          0.12    -0.90  1.42 -0.12       NaN       NaN  \n",
       "3              -0.24         -0.17     2.62  2.25  1.77       NaN       NaN  \n",
       "4               0.58          0.54    -1.85  0.22 -0.58       NaN       NaN  \n",
       "...              ...           ...      ...   ...   ...       ...       ...  \n",
       "3963           -0.44         -0.45     0.53 -0.26  0.32 -0.005755 -0.003762  \n",
       "3964           -0.07         -0.05     0.70 -0.71 -0.80  0.000132 -0.000898  \n",
       "3965            0.12          0.11    -1.85  0.83  0.16  0.000987  0.000984  \n",
       "3966           -0.71         -0.70     1.00  0.01  0.24 -0.002920 -0.002310  \n",
       "3967            0.01         -0.02    -2.04 -0.22 -0.11 -0.004699 -0.005526  \n",
       "\n",
       "[3968 rows x 86 columns]"
      ]
     },
     "execution_count": 14,
     "metadata": {},
     "output_type": "execute_result"
    }
   ],
   "source": [
    "whole_data"
   ]
  },
  {
   "cell_type": "code",
   "execution_count": 15,
   "id": "a23c7abb",
   "metadata": {
    "execution": {
     "iopub.execute_input": "2022-01-10T10:48:08.355366Z",
     "iopub.status.busy": "2022-01-10T10:48:08.354381Z",
     "iopub.status.idle": "2022-01-10T10:48:08.411600Z",
     "shell.execute_reply": "2022-01-10T10:48:08.412141Z",
     "shell.execute_reply.started": "2022-01-10T10:41:41.096487Z"
    },
    "papermill": {
     "duration": 0.122576,
     "end_time": "2022-01-10T10:48:08.412318",
     "exception": false,
     "start_time": "2022-01-10T10:48:08.289742",
     "status": "completed"
    },
    "tags": []
   },
   "outputs": [
    {
     "data": {
      "text/html": [
       "<div>\n",
       "<style scoped>\n",
       "    .dataframe tbody tr th:only-of-type {\n",
       "        vertical-align: middle;\n",
       "    }\n",
       "\n",
       "    .dataframe tbody tr th {\n",
       "        vertical-align: top;\n",
       "    }\n",
       "\n",
       "    .dataframe thead th {\n",
       "        text-align: right;\n",
       "    }\n",
       "</style>\n",
       "<table border=\"1\" class=\"dataframe\">\n",
       "  <thead>\n",
       "    <tr style=\"text-align: right;\">\n",
       "      <th></th>\n",
       "      <th>Date</th>\n",
       "      <th>Close</th>\n",
       "      <th>Volume</th>\n",
       "      <th>mom</th>\n",
       "      <th>mom1</th>\n",
       "      <th>mom2</th>\n",
       "      <th>mom3</th>\n",
       "      <th>ROC_5</th>\n",
       "      <th>ROC_10</th>\n",
       "      <th>ROC_15</th>\n",
       "      <th>...</th>\n",
       "      <th>RUSSELL-F</th>\n",
       "      <th>S&amp;P-F</th>\n",
       "      <th>CHF</th>\n",
       "      <th>Dollar index-F</th>\n",
       "      <th>Dollar index</th>\n",
       "      <th>wheat-F</th>\n",
       "      <th>XAG</th>\n",
       "      <th>XAU</th>\n",
       "      <th>IXIC</th>\n",
       "      <th>S&amp;P</th>\n",
       "    </tr>\n",
       "  </thead>\n",
       "  <tbody>\n",
       "    <tr>\n",
       "      <th>0</th>\n",
       "      <td>2009-12-31</td>\n",
       "      <td>2269.149902</td>\n",
       "      <td>NaN</td>\n",
       "      <td>NaN</td>\n",
       "      <td>NaN</td>\n",
       "      <td>NaN</td>\n",
       "      <td>NaN</td>\n",
       "      <td>NaN</td>\n",
       "      <td>NaN</td>\n",
       "      <td>NaN</td>\n",
       "      <td>...</td>\n",
       "      <td>-1.08</td>\n",
       "      <td>-1.00</td>\n",
       "      <td>-0.11</td>\n",
       "      <td>-0.08</td>\n",
       "      <td>-0.06</td>\n",
       "      <td>-0.48</td>\n",
       "      <td>0.30</td>\n",
       "      <td>0.39</td>\n",
       "      <td>NaN</td>\n",
       "      <td>NaN</td>\n",
       "    </tr>\n",
       "    <tr>\n",
       "      <th>1</th>\n",
       "      <td>2010-01-04</td>\n",
       "      <td>2308.419922</td>\n",
       "      <td>0.560308</td>\n",
       "      <td>0.017306</td>\n",
       "      <td>NaN</td>\n",
       "      <td>NaN</td>\n",
       "      <td>NaN</td>\n",
       "      <td>NaN</td>\n",
       "      <td>NaN</td>\n",
       "      <td>NaN</td>\n",
       "      <td>...</td>\n",
       "      <td>1.61</td>\n",
       "      <td>1.62</td>\n",
       "      <td>-0.57</td>\n",
       "      <td>-0.59</td>\n",
       "      <td>-0.42</td>\n",
       "      <td>3.12</td>\n",
       "      <td>3.91</td>\n",
       "      <td>2.10</td>\n",
       "      <td>NaN</td>\n",
       "      <td>NaN</td>\n",
       "    </tr>\n",
       "    <tr>\n",
       "      <th>2</th>\n",
       "      <td>2010-01-05</td>\n",
       "      <td>2308.709961</td>\n",
       "      <td>0.225994</td>\n",
       "      <td>0.000126</td>\n",
       "      <td>0.017306</td>\n",
       "      <td>NaN</td>\n",
       "      <td>NaN</td>\n",
       "      <td>NaN</td>\n",
       "      <td>NaN</td>\n",
       "      <td>NaN</td>\n",
       "      <td>...</td>\n",
       "      <td>-0.20</td>\n",
       "      <td>0.31</td>\n",
       "      <td>0.43</td>\n",
       "      <td>0.03</td>\n",
       "      <td>0.12</td>\n",
       "      <td>-0.90</td>\n",
       "      <td>1.42</td>\n",
       "      <td>-0.12</td>\n",
       "      <td>NaN</td>\n",
       "      <td>NaN</td>\n",
       "    </tr>\n",
       "    <tr>\n",
       "      <th>3</th>\n",
       "      <td>2010-01-06</td>\n",
       "      <td>2301.090088</td>\n",
       "      <td>-0.048364</td>\n",
       "      <td>-0.003300</td>\n",
       "      <td>0.000126</td>\n",
       "      <td>0.017306</td>\n",
       "      <td>NaN</td>\n",
       "      <td>NaN</td>\n",
       "      <td>NaN</td>\n",
       "      <td>NaN</td>\n",
       "      <td>...</td>\n",
       "      <td>-0.02</td>\n",
       "      <td>0.07</td>\n",
       "      <td>-0.56</td>\n",
       "      <td>-0.24</td>\n",
       "      <td>-0.17</td>\n",
       "      <td>2.62</td>\n",
       "      <td>2.25</td>\n",
       "      <td>1.77</td>\n",
       "      <td>NaN</td>\n",
       "      <td>NaN</td>\n",
       "    </tr>\n",
       "    <tr>\n",
       "      <th>4</th>\n",
       "      <td>2010-01-07</td>\n",
       "      <td>2300.050049</td>\n",
       "      <td>0.007416</td>\n",
       "      <td>-0.000452</td>\n",
       "      <td>-0.003300</td>\n",
       "      <td>0.000126</td>\n",
       "      <td>0.017306</td>\n",
       "      <td>NaN</td>\n",
       "      <td>NaN</td>\n",
       "      <td>NaN</td>\n",
       "      <td>...</td>\n",
       "      <td>0.50</td>\n",
       "      <td>0.40</td>\n",
       "      <td>0.58</td>\n",
       "      <td>0.58</td>\n",
       "      <td>0.54</td>\n",
       "      <td>-1.85</td>\n",
       "      <td>0.22</td>\n",
       "      <td>-0.58</td>\n",
       "      <td>NaN</td>\n",
       "      <td>NaN</td>\n",
       "    </tr>\n",
       "    <tr>\n",
       "      <th>...</th>\n",
       "      <td>...</td>\n",
       "      <td>...</td>\n",
       "      <td>...</td>\n",
       "      <td>...</td>\n",
       "      <td>...</td>\n",
       "      <td>...</td>\n",
       "      <td>...</td>\n",
       "      <td>...</td>\n",
       "      <td>...</td>\n",
       "      <td>...</td>\n",
       "      <td>...</td>\n",
       "      <td>...</td>\n",
       "      <td>...</td>\n",
       "      <td>...</td>\n",
       "      <td>...</td>\n",
       "      <td>...</td>\n",
       "      <td>...</td>\n",
       "      <td>...</td>\n",
       "      <td>...</td>\n",
       "      <td>...</td>\n",
       "      <td>...</td>\n",
       "    </tr>\n",
       "    <tr>\n",
       "      <th>9915</th>\n",
       "      <td>2017-11-09</td>\n",
       "      <td>1475.020020</td>\n",
       "      <td>-0.017375</td>\n",
       "      <td>-0.004528</td>\n",
       "      <td>0.001785</td>\n",
       "      <td>-0.012597</td>\n",
       "      <td>0.002040</td>\n",
       "      <td>-1.438644</td>\n",
       "      <td>-1.498534</td>\n",
       "      <td>-1.798888</td>\n",
       "      <td>...</td>\n",
       "      <td>-0.34</td>\n",
       "      <td>-0.27</td>\n",
       "      <td>-0.61</td>\n",
       "      <td>-0.44</td>\n",
       "      <td>-0.45</td>\n",
       "      <td>0.53</td>\n",
       "      <td>-0.26</td>\n",
       "      <td>0.32</td>\n",
       "      <td>-0.005755</td>\n",
       "      <td>-0.003762</td>\n",
       "    </tr>\n",
       "    <tr>\n",
       "      <th>9916</th>\n",
       "      <td>2017-11-10</td>\n",
       "      <td>1475.270020</td>\n",
       "      <td>-0.089962</td>\n",
       "      <td>0.000169</td>\n",
       "      <td>-0.004528</td>\n",
       "      <td>0.001785</td>\n",
       "      <td>-0.012597</td>\n",
       "      <td>-1.313792</td>\n",
       "      <td>-2.191175</td>\n",
       "      <td>-2.251448</td>\n",
       "      <td>...</td>\n",
       "      <td>-0.20</td>\n",
       "      <td>-0.17</td>\n",
       "      <td>0.18</td>\n",
       "      <td>-0.07</td>\n",
       "      <td>-0.05</td>\n",
       "      <td>0.70</td>\n",
       "      <td>-0.71</td>\n",
       "      <td>-0.80</td>\n",
       "      <td>0.000132</td>\n",
       "      <td>-0.000898</td>\n",
       "    </tr>\n",
       "    <tr>\n",
       "      <th>9917</th>\n",
       "      <td>2017-11-13</td>\n",
       "      <td>1475.069946</td>\n",
       "      <td>-0.024084</td>\n",
       "      <td>-0.000136</td>\n",
       "      <td>0.000169</td>\n",
       "      <td>-0.004528</td>\n",
       "      <td>0.001785</td>\n",
       "      <td>-1.528079</td>\n",
       "      <td>-1.061780</td>\n",
       "      <td>-1.497175</td>\n",
       "      <td>...</td>\n",
       "      <td>-0.04</td>\n",
       "      <td>0.10</td>\n",
       "      <td>0.06</td>\n",
       "      <td>0.12</td>\n",
       "      <td>0.11</td>\n",
       "      <td>-1.85</td>\n",
       "      <td>0.83</td>\n",
       "      <td>0.16</td>\n",
       "      <td>0.000987</td>\n",
       "      <td>0.000984</td>\n",
       "    </tr>\n",
       "    <tr>\n",
       "      <th>9918</th>\n",
       "      <td>2017-11-14</td>\n",
       "      <td>1471.260010</td>\n",
       "      <td>0.070184</td>\n",
       "      <td>-0.002583</td>\n",
       "      <td>-0.000136</td>\n",
       "      <td>0.000169</td>\n",
       "      <td>-0.004528</td>\n",
       "      <td>-0.529377</td>\n",
       "      <td>-2.081158</td>\n",
       "      <td>-1.943458</td>\n",
       "      <td>...</td>\n",
       "      <td>-0.21</td>\n",
       "      <td>-0.15</td>\n",
       "      <td>-0.70</td>\n",
       "      <td>-0.71</td>\n",
       "      <td>-0.70</td>\n",
       "      <td>1.00</td>\n",
       "      <td>0.01</td>\n",
       "      <td>0.24</td>\n",
       "      <td>-0.002920</td>\n",
       "      <td>-0.002310</td>\n",
       "    </tr>\n",
       "    <tr>\n",
       "      <th>9919</th>\n",
       "      <td>2017-11-15</td>\n",
       "      <td>1464.089966</td>\n",
       "      <td>-0.022755</td>\n",
       "      <td>-0.004873</td>\n",
       "      <td>-0.002583</td>\n",
       "      <td>-0.000136</td>\n",
       "      <td>0.000169</td>\n",
       "      <td>-1.190501</td>\n",
       "      <td>-1.921922</td>\n",
       "      <td>-1.967888</td>\n",
       "      <td>...</td>\n",
       "      <td>-0.46</td>\n",
       "      <td>-0.50</td>\n",
       "      <td>-0.11</td>\n",
       "      <td>0.01</td>\n",
       "      <td>-0.02</td>\n",
       "      <td>-2.04</td>\n",
       "      <td>-0.22</td>\n",
       "      <td>-0.11</td>\n",
       "      <td>-0.004699</td>\n",
       "      <td>-0.005526</td>\n",
       "    </tr>\n",
       "  </tbody>\n",
       "</table>\n",
       "<p>9920 rows × 86 columns</p>\n",
       "</div>"
      ],
      "text/plain": [
       "           Date        Close    Volume       mom      mom1      mom2  \\\n",
       "0    2009-12-31  2269.149902       NaN       NaN       NaN       NaN   \n",
       "1    2010-01-04  2308.419922  0.560308  0.017306       NaN       NaN   \n",
       "2    2010-01-05  2308.709961  0.225994  0.000126  0.017306       NaN   \n",
       "3    2010-01-06  2301.090088 -0.048364 -0.003300  0.000126  0.017306   \n",
       "4    2010-01-07  2300.050049  0.007416 -0.000452 -0.003300  0.000126   \n",
       "...         ...          ...       ...       ...       ...       ...   \n",
       "9915 2017-11-09  1475.020020 -0.017375 -0.004528  0.001785 -0.012597   \n",
       "9916 2017-11-10  1475.270020 -0.089962  0.000169 -0.004528  0.001785   \n",
       "9917 2017-11-13  1475.069946 -0.024084 -0.000136  0.000169 -0.004528   \n",
       "9918 2017-11-14  1471.260010  0.070184 -0.002583 -0.000136  0.000169   \n",
       "9919 2017-11-15  1464.089966 -0.022755 -0.004873 -0.002583 -0.000136   \n",
       "\n",
       "          mom3     ROC_5    ROC_10    ROC_15  ...  RUSSELL-F  S&P-F   CHF  \\\n",
       "0          NaN       NaN       NaN       NaN  ...      -1.08  -1.00 -0.11   \n",
       "1          NaN       NaN       NaN       NaN  ...       1.61   1.62 -0.57   \n",
       "2          NaN       NaN       NaN       NaN  ...      -0.20   0.31  0.43   \n",
       "3          NaN       NaN       NaN       NaN  ...      -0.02   0.07 -0.56   \n",
       "4     0.017306       NaN       NaN       NaN  ...       0.50   0.40  0.58   \n",
       "...        ...       ...       ...       ...  ...        ...    ...   ...   \n",
       "9915  0.002040 -1.438644 -1.498534 -1.798888  ...      -0.34  -0.27 -0.61   \n",
       "9916 -0.012597 -1.313792 -2.191175 -2.251448  ...      -0.20  -0.17  0.18   \n",
       "9917  0.001785 -1.528079 -1.061780 -1.497175  ...      -0.04   0.10  0.06   \n",
       "9918 -0.004528 -0.529377 -2.081158 -1.943458  ...      -0.21  -0.15 -0.70   \n",
       "9919  0.000169 -1.190501 -1.921922 -1.967888  ...      -0.46  -0.50 -0.11   \n",
       "\n",
       "      Dollar index-F  Dollar index  wheat-F   XAG   XAU      IXIC       S&P  \n",
       "0              -0.08         -0.06    -0.48  0.30  0.39       NaN       NaN  \n",
       "1              -0.59         -0.42     3.12  3.91  2.10       NaN       NaN  \n",
       "2               0.03          0.12    -0.90  1.42 -0.12       NaN       NaN  \n",
       "3              -0.24         -0.17     2.62  2.25  1.77       NaN       NaN  \n",
       "4               0.58          0.54    -1.85  0.22 -0.58       NaN       NaN  \n",
       "...              ...           ...      ...   ...   ...       ...       ...  \n",
       "9915           -0.44         -0.45     0.53 -0.26  0.32 -0.005755 -0.003762  \n",
       "9916           -0.07         -0.05     0.70 -0.71 -0.80  0.000132 -0.000898  \n",
       "9917            0.12          0.11    -1.85  0.83  0.16  0.000987  0.000984  \n",
       "9918           -0.71         -0.70     1.00  0.01  0.24 -0.002920 -0.002310  \n",
       "9919            0.01         -0.02    -2.04 -0.22 -0.11 -0.004699 -0.005526  \n",
       "\n",
       "[9920 rows x 86 columns]"
      ]
     },
     "execution_count": 15,
     "metadata": {},
     "output_type": "execute_result"
    }
   ],
   "source": [
    "whole_data = whole_data.append(dataset_SP, ignore_index=True)\n",
    "whole_data = whole_data.append(dataset_DJI, ignore_index=True)\n",
    "whole_data = whole_data.append(dataset_RUSSELL, ignore_index=True)\n",
    "whole_data"
   ]
  },
  {
   "cell_type": "code",
   "execution_count": 16,
   "id": "64c9fd34",
   "metadata": {
    "execution": {
     "iopub.execute_input": "2022-01-10T10:48:08.541572Z",
     "iopub.status.busy": "2022-01-10T10:48:08.540540Z",
     "iopub.status.idle": "2022-01-10T10:48:08.547768Z",
     "shell.execute_reply": "2022-01-10T10:48:08.548267Z",
     "shell.execute_reply.started": "2022-01-10T10:41:41.167659Z"
    },
    "papermill": {
     "duration": 0.073812,
     "end_time": "2022-01-10T10:48:08.548435",
     "exception": false,
     "start_time": "2022-01-10T10:48:08.474623",
     "status": "completed"
    },
    "tags": []
   },
   "outputs": [
    {
     "data": {
      "text/plain": [
       "0       2269.149902\n",
       "1       2308.419922\n",
       "2       2308.709961\n",
       "3       2301.090088\n",
       "4       2300.050049\n",
       "           ...     \n",
       "9915    1475.020020\n",
       "9916    1475.270020\n",
       "9917    1475.069946\n",
       "9918    1471.260010\n",
       "9919    1464.089966\n",
       "Name: Close, Length: 9920, dtype: float64"
      ]
     },
     "execution_count": 16,
     "metadata": {},
     "output_type": "execute_result"
    }
   ],
   "source": [
    "whole_data[\"Close\"]"
   ]
  },
  {
   "cell_type": "code",
   "execution_count": 17,
   "id": "f2f11a48",
   "metadata": {
    "execution": {
     "iopub.execute_input": "2022-01-10T10:48:08.680012Z",
     "iopub.status.busy": "2022-01-10T10:48:08.679005Z",
     "iopub.status.idle": "2022-01-10T10:48:08.685324Z",
     "shell.execute_reply": "2022-01-10T10:48:08.685849Z",
     "shell.execute_reply.started": "2022-01-10T10:41:41.176321Z"
    },
    "papermill": {
     "duration": 0.074057,
     "end_time": "2022-01-10T10:48:08.686023",
     "exception": false,
     "start_time": "2022-01-10T10:48:08.611966",
     "status": "completed"
    },
    "tags": []
   },
   "outputs": [
    {
     "name": "stdout",
     "output_type": "stream",
     "text": [
      "1984\n",
      "1984\n",
      "1984\n",
      "1984\n",
      "1984\n"
     ]
    }
   ],
   "source": [
    "print(len(dataset_NASDAQ ))\n",
    "print(len(dataset_NYSE))\n",
    "print(len(dataset_SP))\n",
    "print(len(dataset_DJI ))\n",
    "print(len(dataset_RUSSELL))"
   ]
  },
  {
   "cell_type": "code",
   "execution_count": 18,
   "id": "775f0620",
   "metadata": {
    "execution": {
     "iopub.execute_input": "2022-01-10T10:48:08.817786Z",
     "iopub.status.busy": "2022-01-10T10:48:08.816796Z",
     "iopub.status.idle": "2022-01-10T10:48:08.831363Z",
     "shell.execute_reply": "2022-01-10T10:48:08.831946Z",
     "shell.execute_reply.started": "2022-01-10T10:41:41.192511Z"
    },
    "papermill": {
     "duration": 0.082496,
     "end_time": "2022-01-10T10:48:08.832125",
     "exception": false,
     "start_time": "2022-01-10T10:48:08.749629",
     "status": "completed"
    },
    "tags": []
   },
   "outputs": [
    {
     "data": {
      "text/plain": [
       "Date          0\n",
       "Close         0\n",
       "Volume        7\n",
       "mom           5\n",
       "mom1         10\n",
       "           ... \n",
       "wheat-F      10\n",
       "XAG           0\n",
       "XAU           0\n",
       "IXIC       1988\n",
       "S&P        5954\n",
       "Length: 86, dtype: int64"
      ]
     },
     "execution_count": 18,
     "metadata": {},
     "output_type": "execute_result"
    }
   ],
   "source": [
    "whole_data.isnull().sum()"
   ]
  },
  {
   "cell_type": "code",
   "execution_count": 19,
   "id": "6dfb809e",
   "metadata": {
    "execution": {
     "iopub.execute_input": "2022-01-10T10:48:08.964353Z",
     "iopub.status.busy": "2022-01-10T10:48:08.963410Z",
     "iopub.status.idle": "2022-01-10T10:48:09.150711Z",
     "shell.execute_reply": "2022-01-10T10:48:09.151332Z",
     "shell.execute_reply.started": "2022-01-10T10:41:41.211611Z"
    },
    "papermill": {
     "duration": 0.254871,
     "end_time": "2022-01-10T10:48:09.151506",
     "exception": false,
     "start_time": "2022-01-10T10:48:08.896635",
     "status": "completed"
    },
    "tags": []
   },
   "outputs": [
    {
     "name": "stdout",
     "output_type": "stream",
     "text": [
      "<class 'pandas.core.frame.DataFrame'>\n",
      "RangeIndex: 9920 entries, 0 to 9919\n",
      "Data columns (total 86 columns):\n",
      " #   Column          Non-Null Count  Dtype         \n",
      "---  ------          --------------  -----         \n",
      " 0   Date            9920 non-null   datetime64[ns]\n",
      " 1   Close           9920 non-null   float64       \n",
      " 2   Volume          9913 non-null   float64       \n",
      " 3   mom             9915 non-null   float64       \n",
      " 4   mom1            9910 non-null   float64       \n",
      " 5   mom2            9905 non-null   float64       \n",
      " 6   mom3            9900 non-null   float64       \n",
      " 7   ROC_5           9895 non-null   float64       \n",
      " 8   ROC_10          9870 non-null   float64       \n",
      " 9   ROC_15          9845 non-null   float64       \n",
      " 10  ROC_20          9820 non-null   float64       \n",
      " 11  EMA_10          9875 non-null   float64       \n",
      " 12  EMA_20          9825 non-null   float64       \n",
      " 13  EMA_50          9675 non-null   float64       \n",
      " 14  EMA_200         8925 non-null   float64       \n",
      " 15  DTB4WK          9920 non-null   float64       \n",
      " 16  DTB3            9920 non-null   float64       \n",
      " 17  DTB6            9920 non-null   float64       \n",
      " 18  DGS5            9920 non-null   float64       \n",
      " 19  DGS10           9920 non-null   float64       \n",
      " 20  Oil             9915 non-null   float64       \n",
      " 21  Gold            9915 non-null   float64       \n",
      " 22  DAAA            9920 non-null   float64       \n",
      " 23  DBAA            9920 non-null   float64       \n",
      " 24  GBP             7530 non-null   float64       \n",
      " 25  JPY             7525 non-null   float64       \n",
      " 26  CAD             7505 non-null   float64       \n",
      " 27  CNY             7525 non-null   float64       \n",
      " 28  AAPL            9915 non-null   float64       \n",
      " 29  AMZN            9915 non-null   float64       \n",
      " 30  GE              9915 non-null   float64       \n",
      " 31  JNJ             9915 non-null   float64       \n",
      " 32  JPM             9915 non-null   float64       \n",
      " 33  MSFT            9915 non-null   float64       \n",
      " 34  WFC             9915 non-null   float64       \n",
      " 35  XOM             9915 non-null   float64       \n",
      " 36  FCHI            9720 non-null   float64       \n",
      " 37  FTSE            9565 non-null   float64       \n",
      " 38  GDAXI           9585 non-null   float64       \n",
      " 39  GSPC            3966 non-null   float64       \n",
      " 40  HSI             9070 non-null   float64       \n",
      " 41  DJI             7932 non-null   float64       \n",
      " 42  SSEC            8730 non-null   float64       \n",
      " 43  RUT             7932 non-null   float64       \n",
      " 44  NYSE            7932 non-null   float64       \n",
      " 45  TE1             9920 non-null   float64       \n",
      " 46  TE2             9920 non-null   float64       \n",
      " 47  TE3             9920 non-null   float64       \n",
      " 48  TE5             9920 non-null   float64       \n",
      " 49  TE6             9920 non-null   float64       \n",
      " 50  DE1             9920 non-null   float64       \n",
      " 51  DE2             9920 non-null   float64       \n",
      " 52  DE4             9920 non-null   float64       \n",
      " 53  DE5             9920 non-null   float64       \n",
      " 54  DE6             9920 non-null   float64       \n",
      " 55  CTB3M           9915 non-null   float64       \n",
      " 56  CTB6M           9915 non-null   float64       \n",
      " 57  CTB1Y           9915 non-null   float64       \n",
      " 58  Name            9920 non-null   object        \n",
      " 59  AUD             9920 non-null   float64       \n",
      " 60  Brent           9920 non-null   float64       \n",
      " 61  CAC-F           9900 non-null   float64       \n",
      " 62  copper-F        9920 non-null   float64       \n",
      " 63  WIT-oil         9920 non-null   float64       \n",
      " 64  DAX-F           9900 non-null   float64       \n",
      " 65  DJI-F           9920 non-null   float64       \n",
      " 66  EUR             9920 non-null   float64       \n",
      " 67  FTSE-F          9890 non-null   float64       \n",
      " 68  gold-F          9920 non-null   float64       \n",
      " 69  HSI-F           9545 non-null   float64       \n",
      " 70  KOSPI-F         9525 non-null   float64       \n",
      " 71  NASDAQ-F        9920 non-null   float64       \n",
      " 72  GAS-F           9920 non-null   float64       \n",
      " 73  Nikkei-F        9920 non-null   float64       \n",
      " 74  NZD             9920 non-null   float64       \n",
      " 75  silver-F        9920 non-null   float64       \n",
      " 76  RUSSELL-F       9920 non-null   float64       \n",
      " 77  S&P-F           9920 non-null   float64       \n",
      " 78  CHF             9920 non-null   float64       \n",
      " 79  Dollar index-F  9920 non-null   float64       \n",
      " 80  Dollar index    9920 non-null   float64       \n",
      " 81  wheat-F         9910 non-null   float64       \n",
      " 82  XAG             9920 non-null   float64       \n",
      " 83  XAU             9920 non-null   float64       \n",
      " 84  IXIC            7932 non-null   float64       \n",
      " 85  S&P             3966 non-null   float64       \n",
      "dtypes: datetime64[ns](1), float64(84), object(1)\n",
      "memory usage: 6.5+ MB\n"
     ]
    }
   ],
   "source": [
    "whole_data.info()"
   ]
  },
  {
   "cell_type": "code",
   "execution_count": 20,
   "id": "b44647bf",
   "metadata": {
    "execution": {
     "iopub.execute_input": "2022-01-10T10:48:09.284321Z",
     "iopub.status.busy": "2022-01-10T10:48:09.283310Z",
     "iopub.status.idle": "2022-01-10T10:48:20.015040Z",
     "shell.execute_reply": "2022-01-10T10:48:20.015541Z",
     "shell.execute_reply.started": "2022-01-10T10:41:41.237959Z"
    },
    "papermill": {
     "duration": 10.799738,
     "end_time": "2022-01-10T10:48:20.015710",
     "exception": false,
     "start_time": "2022-01-10T10:48:09.215972",
     "status": "completed"
    },
    "tags": []
   },
   "outputs": [
    {
     "data": {
      "image/png": "[encoded data removed]",
      "text/plain": [
       "<Figure size 2160x2160 with 90 Axes>"
      ]
     },
     "metadata": {
      "needs_background": "light"
     },
     "output_type": "display_data"
    }
   ],
   "source": [
    "import matplotlib.pyplot as plt\n",
    "whole_data.hist(figsize=(30,30))\n",
    "plt.show()"
   ]
  },
  {
   "cell_type": "code",
   "execution_count": 21,
   "id": "c022de8b",
   "metadata": {
    "execution": {
     "iopub.execute_input": "2022-01-10T10:48:20.162095Z",
     "iopub.status.busy": "2022-01-10T10:48:20.161413Z",
     "iopub.status.idle": "2022-01-10T10:48:20.166517Z",
     "shell.execute_reply": "2022-01-10T10:48:20.167033Z",
     "shell.execute_reply.started": "2022-01-10T10:41:51.463332Z"
    },
    "papermill": {
     "duration": 0.080181,
     "end_time": "2022-01-10T10:48:20.167212",
     "exception": false,
     "start_time": "2022-01-10T10:48:20.087031",
     "status": "completed"
    },
    "tags": []
   },
   "outputs": [],
   "source": [
    "def cnn_data_sequence(data, target, seque_len):\n",
    "    print ('sequencing data ...')\n",
    "    new_train = []\n",
    "    new_target = []\n",
    "\n",
    "    for index in range(data.shape[1] - seque_len + 1):\n",
    "        new_train.append(data[:, index: index + seque_len])\n",
    "        new_target.append(target[index + seque_len - 1])\n",
    "\n",
    "    new_train = np.array(new_train)\n",
    "    new_target = np.array(new_target)\n",
    "\n",
    "    return new_train, new_target"
   ]
  },
  {
   "cell_type": "code",
   "execution_count": 22,
   "id": "7cae7fb7",
   "metadata": {
    "execution": {
     "iopub.execute_input": "2022-01-10T10:48:20.315769Z",
     "iopub.status.busy": "2022-01-10T10:48:20.315000Z",
     "iopub.status.idle": "2022-01-10T10:48:20.318637Z",
     "shell.execute_reply": "2022-01-10T10:48:20.319139Z",
     "shell.execute_reply.started": "2022-01-10T10:41:51.471286Z"
    },
    "papermill": {
     "duration": 0.082279,
     "end_time": "2022-01-10T10:48:20.319309",
     "exception": false,
     "start_time": "2022-01-10T10:48:20.237030",
     "status": "completed"
    },
    "tags": []
   },
   "outputs": [
    {
     "name": "stdout",
     "output_type": "stream",
     "text": [
      "2269.149902\n",
      "--------\n"
     ]
    },
    {
     "data": {
      "text/plain": [
       "Date\n",
       "2009-12-31    2269.149902\n",
       "2010-01-04    2308.419922\n",
       "2010-01-05    2308.709961\n",
       "2010-01-06    2301.090088\n",
       "2010-01-07    2300.050049\n",
       "Name: Close, dtype: float64"
      ]
     },
     "execution_count": 22,
     "metadata": {},
     "output_type": "execute_result"
    }
   ],
   "source": [
    "# Remember: we defined our indexes as our dates.\n",
    "print(dataset_NASDAQ.Close[0])\n",
    "print(\"--------\")\n",
    "dataset_NASDAQ.Close[0:5]"
   ]
  },
  {
   "cell_type": "code",
   "execution_count": 23,
   "id": "7a6cee4b",
   "metadata": {
    "execution": {
     "iopub.execute_input": "2022-01-10T10:48:20.469537Z",
     "iopub.status.busy": "2022-01-10T10:48:20.468711Z",
     "iopub.status.idle": "2022-01-10T10:48:20.471911Z",
     "shell.execute_reply": "2022-01-10T10:48:20.472397Z",
     "shell.execute_reply.started": "2022-01-10T10:41:51.488542Z"
    },
    "papermill": {
     "duration": 0.082864,
     "end_time": "2022-01-10T10:48:20.472565",
     "exception": false,
     "start_time": "2022-01-10T10:48:20.389701",
     "status": "completed"
    },
    "tags": []
   },
   "outputs": [
    {
     "data": {
      "text/plain": [
       "Date\n",
       "2010-01-04    1\n",
       "2010-01-05    1\n",
       "2010-01-06    0\n",
       "2010-01-07    0\n",
       "2010-01-08    1\n",
       "             ..\n",
       "2017-11-09    0\n",
       "2017-11-10    1\n",
       "2017-11-13    1\n",
       "2017-11-14    0\n",
       "2017-11-15    0\n",
       "Name: Close, Length: 1983, dtype: int64"
      ]
     },
     "execution_count": 23,
     "metadata": {},
     "output_type": "execute_result"
    }
   ],
   "source": [
    "# (data['Close'][predict_day:] / data['Close'][:-predict_day].values).astype(int)\n",
    "(dataset_NASDAQ['Close'][1:] / dataset_NASDAQ['Close'][:-1].values).astype(int) # -> Bu kısma bir daha bak"
   ]
  },
  {
   "cell_type": "code",
   "execution_count": 24,
   "id": "e6533973",
   "metadata": {
    "execution": {
     "iopub.execute_input": "2022-01-10T10:48:20.623956Z",
     "iopub.status.busy": "2022-01-10T10:48:20.623192Z",
     "iopub.status.idle": "2022-01-10T10:48:20.634314Z",
     "shell.execute_reply": "2022-01-10T10:48:20.634916Z",
     "shell.execute_reply.started": "2022-01-10T10:41:51.502210Z"
    },
    "papermill": {
     "duration": 0.091873,
     "end_time": "2022-01-10T10:48:20.635099",
     "exception": false,
     "start_time": "2022-01-10T10:48:20.543226",
     "status": "completed"
    },
    "tags": []
   },
   "outputs": [],
   "source": [
    "predict_index = \"RUT\"  #  -> Change this part to see the results. # RUT, S&P, NYA, NASDAQ, DJI\n",
    "number_of_stocks = 0\n",
    "order_stocks = []\n",
    "predict_day = 1\n",
    "\n",
    "\n",
    "def prepare_for_CNN():\n",
    "    global number_of_stocks\n",
    "    global samples_in_each_stock\n",
    "    global number_feature\n",
    "    #global predict_index\n",
    "    global order_stocksw\n",
    "    tottal_train_data = np.empty((0,82))  # column number is 82\n",
    "    tottal_train_target = np.empty((0))\n",
    "    tottal_test_data = np.empty((0,82))\n",
    "    tottal_test_target = np.empty((0))\n",
    "    \n",
    "    for data in [dataset_DJI, dataset_NASDAQ, dataset_NYSE, dataset_RUSSELL, dataset_SP]:\n",
    "        \n",
    "        number_of_stocks += 1\n",
    "        \n",
    "        df_name = data['Name'][0]\n",
    "        order_stocks.append(df_name)\n",
    "        del data['Name']                # deletes \"Name\" column\n",
    "\n",
    "        target = (data['Close'][predict_day:] / data['Close'][:-predict_day].values).astype(int)\n",
    "        print(target)   # (0's or 1's.)\n",
    "        print(\"*****\")\n",
    "        data = data[:-predict_day]\n",
    "        target.index = data.index\n",
    "        # Becasue of using 200 days Moving Average as one of the features\n",
    "        data = data[200:]                         # Bu kısma bir daha bak\n",
    "        data = data.fillna(0)\n",
    "        data['target'] = target\n",
    "        target = data['target']\n",
    "        del data['target']\n",
    "        del data['Date']\n",
    "        # data['Date'] = data['Date'].apply(lambda x: x.weekday())\n",
    "\n",
    "        number_feature = data.shape[1]\n",
    "        samples_in_each_stock = data.shape[0]\n",
    "\n",
    "        train_data = data[data.index < '2016-04-21']\n",
    "        train_data = scale(train_data)\n",
    "        \n",
    "        print(\"train data:\", train_data)\n",
    "        \n",
    "        if df_name == predict_index:\n",
    "            tottal_train_target = target[target.index < '2016-04-21']\n",
    "            tottal_test_target = target[target.index >= '2016-04-21']\n",
    "\n",
    "        data = pd.DataFrame(scale(data.values), columns=data.columns)\n",
    "        data.index = target.index\n",
    "        test_data = data[data.index >= '2016-04-21']\n",
    "\n",
    "        tottal_train_data = np.concatenate((tottal_train_data, train_data))\n",
    "        print(tottal_train_data.shape)\n",
    "        tottal_test_data = np.concatenate((tottal_test_data, test_data))\n",
    "        print(tottal_test_data.shape)\n",
    "        \n",
    "    print(\"order_stocks:\", order_stocks)\n",
    "        \n",
    "    train_size = int(tottal_train_data.shape[0]/number_of_stocks)\n",
    "    print(\"Train size:\", train_size)\n",
    "    test_size = int(tottal_test_data.shape[0] / number_of_stocks)\n",
    "    print(\"Test size:\", test_size)\n",
    "    \n",
    "    tottal_train_data = tottal_train_data.reshape(number_of_stocks, train_size, number_feature)\n",
    "    print(\"Total train data shape:\", tottal_train_data.shape)\n",
    "    tottal_test_data = tottal_test_data.reshape(number_of_stocks, test_size, number_feature) \n",
    "    print(\"Total test data shape:\", tottal_test_data.shape)\n",
    "    \n",
    "    print(\"tottal_train_target:\", tottal_train_target, \"shape :\", tottal_train_target.shape)\n",
    "    print(\"tottal_test_target: \", tottal_test_target, \"shape:\", tottal_test_target.shape)\n",
    "\n",
    "    return tottal_train_data, tottal_test_data, tottal_train_target, tottal_test_target"
   ]
  },
  {
   "cell_type": "code",
   "execution_count": 25,
   "id": "465076cf",
   "metadata": {
    "execution": {
     "iopub.execute_input": "2022-01-10T10:48:20.790638Z",
     "iopub.status.busy": "2022-01-10T10:48:20.779257Z",
     "iopub.status.idle": "2022-01-10T10:48:20.792518Z",
     "shell.execute_reply": "2022-01-10T10:48:20.793032Z",
     "shell.execute_reply.started": "2022-01-10T10:41:51.517708Z"
    },
    "papermill": {
     "duration": 0.087497,
     "end_time": "2022-01-10T10:48:20.793217",
     "exception": false,
     "start_time": "2022-01-10T10:48:20.705720",
     "status": "completed"
    },
    "tags": []
   },
   "outputs": [],
   "source": [
    "def f1(y_true, y_pred):\n",
    "    def recall(y_true, y_pred):\n",
    "        \"\"\"Recall metric.\n",
    "\n",
    "        Only computes a batch-wise average of recall.\n",
    "\n",
    "        Computes the recall, a metric for multi-label classification of\n",
    "        how many relevant items are selected.\n",
    "        \"\"\"\n",
    "        true_positives = K.sum(K.round(K.clip(y_true * y_pred, 0, 1)))\n",
    "        possible_positives = K.sum(K.round(K.clip(y_true, 0, 1)))\n",
    "        recall = true_positives / (possible_positives + K.epsilon())\n",
    "        return recall\n",
    "\n",
    "    def precision(y_true, y_pred):\n",
    "        \"\"\"Precision metric.\n",
    "\n",
    "        Only computes a batch-wise average of precision.\n",
    "\n",
    "        Computes the precision, a metric for multi-label classification of\n",
    "        how many selected items are relevant.\n",
    "        \"\"\"\n",
    "        true_positives = K.sum(K.round(K.clip(y_true * y_pred, 0, 1)))\n",
    "        predicted_positives = K.sum(K.round(K.clip(y_pred, 0, 1)))\n",
    "        precision = true_positives / (predicted_positives + K.epsilon())\n",
    "        return precision\n",
    "    precision_pos = precision(y_true, y_pred)\n",
    "    recall_pos = recall(y_true, y_pred)\n",
    "    precision_neg = precision((K.ones_like(y_true)-y_true), (K.ones_like(y_pred)-K.clip(y_pred, 0, 1)))\n",
    "    recall_neg = recall((K.ones_like(y_true)-y_true), (K.ones_like(y_pred)-K.clip(y_pred, 0, 1)))\n",
    "    f_posit = 2*((precision_pos*recall_pos)/(precision_pos+recall_pos+K.epsilon()))\n",
    "    f_neg = 2 * ((precision_neg * recall_neg) / (precision_neg + recall_neg + K.epsilon()))\n",
    "\n",
    "    return (f_posit + f_neg) / 2\n",
    "\n",
    "def sklearn_acc(model, test_data, test_target):\n",
    "    overall_results = model.predict(test_data)\n",
    "    test_pred = (overall_results > 0.5).astype(int)\n",
    "    acc_results = [mae(overall_results, test_target), accuracy(test_pred, test_target),\n",
    "                   f1_score(test_pred, test_target, average='macro')]\n",
    "\n",
    "    return acc_results"
   ]
  },
  {
   "cell_type": "code",
   "execution_count": 26,
   "id": "ace53850",
   "metadata": {
    "execution": {
     "iopub.execute_input": "2022-01-10T10:48:20.951219Z",
     "iopub.status.busy": "2022-01-10T10:48:20.938526Z",
     "iopub.status.idle": "2022-01-10T10:48:20.953129Z",
     "shell.execute_reply": "2022-01-10T10:48:20.953683Z",
     "shell.execute_reply.started": "2022-01-10T10:41:51.535033Z"
    },
    "papermill": {
     "duration": 0.089589,
     "end_time": "2022-01-10T10:48:20.953883",
     "exception": false,
     "start_time": "2022-01-10T10:48:20.864294",
     "status": "completed"
    },
    "tags": []
   },
   "outputs": [],
   "source": [
    "number_filter = [8,8,8]\n",
    "\n",
    "def CNN(train_data, test_data, train_target, test_target):\n",
    "    # hisory of data in each sample\n",
    "    seq_len = 60\n",
    "    epoc = 100\n",
    "    drop = 0.1\n",
    "    \n",
    "    cnn_train_data, cnn_train_target = cnn_data_sequence(train_data, train_target, seq_len)\n",
    "    #print(\"cnn_train_data:\", cnn_train_data.shape)\n",
    "    #print(\"cnn_train_target:\", cnn_train_target.shape)\n",
    "    \n",
    "    cnn_test_data, cnn_test_target = cnn_data_sequence(test_data, test_target, seq_len)\n",
    "    #print(\"cnn_test_data:\", cnn_test_data.shape)\n",
    "    #print(\"cnn_test_target:\", cnn_test_target.shape)\n",
    "    \n",
    "    result = []\n",
    "    \n",
    "    for i in range(1,5):   \n",
    "        K.clear_session()\n",
    "        print ('i: ', i)\n",
    "        \n",
    "        print('fitting model')\n",
    "        \n",
    "        model = Sequential()\n",
    "                                            # M0 -> inputs are given (60,5,82)\n",
    "        #layer 1                            # M1 -> (60,5,8) (# past days, # markets, # features)\n",
    "        model.add(Conv2D(number_filter[0], (1, 1), activation='relu', input_shape=(number_of_stocks,seq_len, number_feature), data_format='channels_last'))\n",
    "        model.add(Dropout(0.1)) # added     # +++ Dropout \n",
    "        \n",
    "        #layer 2\n",
    "        model.add(BatchNormalization())     # added   +++ Batch Normalization\n",
    "        model.add(Conv2D(number_filter[1], (number_of_stocks, 3), activation='relu'))\n",
    "        model.add(MaxPool2D(pool_size=(1, 2)))\n",
    "        model.add(Dropout(0.2)) # added\n",
    "\n",
    "        \n",
    "        #layer 3\n",
    "        model.add(Conv2D(number_filter[2], (1, 3), activation='relu'))\n",
    "        model.add(MaxPool2D(pool_size=(1, 2)))\n",
    "        \n",
    "        # Flattening Layer:\n",
    "        model.add(Flatten())\n",
    "        model.add(Dropout(0.01))  # added\n",
    "        \n",
    "        # Last Layer:\n",
    "        model.add(Dense(1, activation='sigmoid'))\n",
    "\n",
    "        model.compile(optimizer='Adam', loss='mae', metrics=['acc',f1])\n",
    "\n",
    "        #best_model = callbacks.ModelCheckpoint(filepath, monitor='val_f1', verbose=0, save_best_only=True,\n",
    "                                               #save_weights_only=False, mode='max', period=1)\n",
    "\n",
    "        model.fit(cnn_train_data, cnn_train_target, epochs=epoc, batch_size=128, verbose=0, validation_split=0.25) #callbacks=[best_model],\n",
    "\n",
    "    #   model = load_model(filepath, custom_objects={'f1': f1})\n",
    "        test_pred = sklearn_acc(model,cnn_test_data, cnn_test_target)\n",
    "        print (test_pred)\n",
    "        result.append(test_pred)\n",
    "                \n",
    "        model.summary() # added \n",
    "        \n",
    "        plot_model(model)    \n",
    "    \n",
    "    print('saving results')\n",
    "    results = pd.DataFrame(result , columns=['MAE', 'Accuracy', 'F-score'])\n",
    "    results = results.append([results.mean(), results.max(), results.std()], ignore_index=True)\n",
    "    #results.to_csv(join(Base_dir, '3D-models/{}/new results.csv'.format(predict_index)), index=False)\n",
    "    return results\n",
    "    "
   ]
  },
  {
   "cell_type": "code",
   "execution_count": 27,
   "id": "9a4a4a07",
   "metadata": {
    "execution": {
     "iopub.execute_input": "2022-01-10T10:48:21.099101Z",
     "iopub.status.busy": "2022-01-10T10:48:21.098472Z",
     "iopub.status.idle": "2022-01-10T10:49:36.303087Z",
     "shell.execute_reply": "2022-01-10T10:49:36.302506Z",
     "shell.execute_reply.started": "2022-01-10T10:41:51.557361Z"
    },
    "papermill": {
     "duration": 75.278316,
     "end_time": "2022-01-10T10:49:36.303242",
     "exception": false,
     "start_time": "2022-01-10T10:48:21.024926",
     "status": "completed"
    },
    "tags": []
   },
   "outputs": [
    {
     "name": "stdout",
     "output_type": "stream",
     "text": [
      "Date\n",
      "2010-01-04    1\n",
      "2010-01-05    0\n",
      "2010-01-06    1\n",
      "2010-01-07    1\n",
      "2010-01-08    1\n",
      "             ..\n",
      "2017-11-09    0\n",
      "2017-11-10    0\n",
      "2017-11-13    1\n",
      "2017-11-14    0\n",
      "2017-11-15    0\n",
      "Name: Close, Length: 1983, dtype: int64\n",
      "*****\n",
      "train data: [[-1.61843812e+00 -4.97237962e-03  7.60884177e-01 ... -1.06898516e+00\n",
      "   1.33049302e-01  4.94814172e-02]\n",
      " [-1.69081489e+00  9.42328192e-03 -1.67301913e+00 ... -1.34989491e+00\n",
      "  -2.09378625e+00 -2.28768559e+00]\n",
      " [-1.63410023e+00  4.30775948e-03  1.25238419e+00 ...  1.35319892e+00\n",
      "   1.24393082e+00  7.52457430e-01]\n",
      " ...\n",
      " [ 1.38960481e+00 -5.20925771e-03  6.12162257e-01 ...  1.42740149e+00\n",
      "  -2.41987672e-02 -1.78757548e-01]\n",
      " [ 1.41128205e+00  1.53736665e-03  2.58439544e-01 ...  1.47510315e+00\n",
      "   2.22292686e+00  1.40978565e+00]\n",
      " [ 1.42999111e+00 -4.25107220e-01  2.16366265e-01 ...  1.92561879e+00\n",
      "   6.71065631e-02 -4.70903424e-01]]\n",
      "(1386, 82)\n",
      "(397, 82)\n",
      "Date\n",
      "2010-01-04    1\n",
      "2010-01-05    1\n",
      "2010-01-06    0\n",
      "2010-01-07    0\n",
      "2010-01-08    1\n",
      "             ..\n",
      "2017-11-09    0\n",
      "2017-11-10    1\n",
      "2017-11-13    1\n",
      "2017-11-14    0\n",
      "2017-11-15    0\n",
      "Name: Close, Length: 1983, dtype: int64\n",
      "*****\n",
      "train data: [[-1.38088387 -0.92296454  0.38928726 ... -1.06898516  0.1330493\n",
      "   0.04948142]\n",
      " [-1.42994627  1.03802097 -1.66365621 ... -1.34989491 -2.09378625\n",
      "  -2.28768559]\n",
      " [-1.40700339 -0.45013289  0.7160713  ...  1.35319892  1.24393082\n",
      "   0.75245743]\n",
      " ...\n",
      " [ 1.40208263 -0.10449278  0.35253945 ...  1.42740149 -0.02419877\n",
      "  -0.17875755]\n",
      " [ 1.37998159  0.2611069  -0.41462251 ...  1.47510315  2.22292686\n",
      "   1.40978565]\n",
      " [ 1.38873651 -0.16430012  0.09307108 ...  1.92561879  0.06710656\n",
      "  -0.47090342]]\n",
      "(2772, 82)\n",
      "(794, 82)\n",
      "Date\n",
      "2010-01-04    1\n",
      "2010-01-05    1\n",
      "2010-01-06    1\n",
      "2010-01-07    1\n",
      "2010-01-08    1\n",
      "             ..\n",
      "2017-11-09    0\n",
      "2017-11-10    0\n",
      "2017-11-13    0\n",
      "2017-11-14    0\n",
      "2017-11-15    0\n",
      "Name: Close, Length: 1983, dtype: int64\n",
      "*****\n",
      "train data: [[-1.34864788 -1.05055034  0.63830195 ... -1.06898516  0.1330493\n",
      "   0.04948142]\n",
      " [-1.46429662  1.06376485 -1.96506805 ... -1.34989491 -2.09378625\n",
      "  -2.28768559]\n",
      " [-1.3857386  -0.52099868  1.31196467 ...  1.35319892  1.24393082\n",
      "   0.75245743]\n",
      " ...\n",
      " [ 0.88967935 -0.52852911  0.63660163 ...  1.42740149 -0.02419877\n",
      "  -0.17875755]\n",
      " [ 0.96212746  0.69641992  0.85158041 ...  1.47510315  2.22292686\n",
      "   1.40978565]\n",
      " [ 0.9703552   0.25288624  0.06997404 ...  1.92561879  0.06710656\n",
      "  -0.47090342]]\n",
      "(4158, 82)\n",
      "(1191, 82)\n",
      "Date\n",
      "2010-01-04    1\n",
      "2010-01-05    0\n",
      "2010-01-06    0\n",
      "2010-01-07    1\n",
      "2010-01-08    1\n",
      "             ..\n",
      "2017-11-09    0\n",
      "2017-11-10    1\n",
      "2017-11-13    0\n",
      "2017-11-14    0\n",
      "2017-11-15    0\n",
      "Name: Close, Length: 1983, dtype: int64\n",
      "*****\n",
      "train data: [[-1.49389903 -0.96682046  0.72913377 ... -1.06898516  0.1330493\n",
      "   0.04948142]\n",
      " [-1.58137067  0.93290788 -1.76464063 ... -1.34989491 -2.09378625\n",
      "  -2.28768559]\n",
      " [-1.53779923 -0.49101425  0.84874478 ...  1.35319892  1.24393082\n",
      "   0.75245743]\n",
      " ...\n",
      " [ 0.85519377 -0.49778039  0.53524659 ...  1.42740149 -0.02419877\n",
      "  -0.17875755]\n",
      " [ 0.86039364  0.60284566  0.03069768 ...  1.47510315  2.22292686\n",
      "   1.40978565]\n",
      " [ 0.87167004  0.20432726  0.10554381 ...  1.92561879  0.06710656\n",
      "  -0.47090342]]\n",
      "(5544, 82)\n",
      "(1588, 82)\n",
      "Date\n",
      "2010-01-04    1\n",
      "2010-01-05    1\n",
      "2010-01-06    1\n",
      "2010-01-07    1\n",
      "2010-01-08    1\n",
      "             ..\n",
      "2017-11-09    0\n",
      "2017-11-10    0\n",
      "2017-11-13    1\n",
      "2017-11-14    0\n",
      "2017-11-15    0\n",
      "Name: Close, Length: 1983, dtype: int64\n",
      "*****\n",
      "train data: [[-1.47419995 -1.0853537   0.69708253 ... -1.06898516  0.1330493\n",
      "   0.04948142]\n",
      " [-1.53288346  1.06992084 -1.68106076 ... -1.34989491 -2.09378625\n",
      "  -2.28768559]\n",
      " [-1.49460328 -0.54554336  1.03448565 ...  1.35319892  1.24393082\n",
      "   0.75245743]\n",
      " ...\n",
      " [ 1.36367719 -0.55321967  0.62480331 ...  1.42740149 -0.02419877\n",
      "  -0.17875755]\n",
      " [ 1.38383107  0.69545956  0.26927587 ...  1.47510315  2.22292686\n",
      "   1.40978565]\n",
      " [ 1.38882232  0.24333357  0.03034648 ...  1.92561879  0.06710656\n",
      "  -0.47090342]]\n",
      "(6930, 82)\n",
      "(1985, 82)\n",
      "order_stocks: ['DJI', 'NASDAQ', 'NYA', 'RUT', 'S&P']\n",
      "Train size: 1386\n",
      "Test size: 397\n",
      "Total train data shape: (5, 1386, 82)\n",
      "Total test data shape: (5, 397, 82)\n",
      "tottal_train_target: Date\n",
      "2010-10-18    0\n",
      "2010-10-19    1\n",
      "2010-10-20    0\n",
      "2010-10-21    1\n",
      "2010-10-22    1\n",
      "             ..\n",
      "2016-04-14    1\n",
      "2016-04-15    1\n",
      "2016-04-18    1\n",
      "2016-04-19    1\n",
      "2016-04-20    0\n",
      "Name: target, Length: 1386, dtype: int64 shape : (1386,)\n",
      "tottal_test_target:  Date\n",
      "2016-04-21    1\n",
      "2016-04-22    0\n",
      "2016-04-25    1\n",
      "2016-04-26    1\n",
      "2016-04-27    0\n",
      "             ..\n",
      "2017-11-08    0\n",
      "2017-11-09    1\n",
      "2017-11-10    0\n",
      "2017-11-13    0\n",
      "2017-11-14    0\n",
      "Name: target, Length: 397, dtype: int64 shape: (397,)\n",
      "sequencing data ...\n",
      "sequencing data ...\n",
      "i:  1\n",
      "fitting model\n"
     ]
    },
    {
     "name": "stderr",
     "output_type": "stream",
     "text": [
      "\n",
      "User settings:\n",
      "\n",
      "   KMP_AFFINITY=granularity=fine,verbose,compact,1,0\n",
      "   KMP_BLOCKTIME=0\n",
      "   KMP_DUPLICATE_LIB_OK=True\n",
      "   KMP_INIT_AT_FORK=FALSE\n",
      "   KMP_SETTINGS=1\n",
      "   KMP_WARNINGS=0\n",
      "\n",
      "Effective settings:\n",
      "\n",
      "   KMP_ABORT_DELAY=0\n",
      "   KMP_ADAPTIVE_LOCK_PROPS='1,1024'\n",
      "   KMP_ALIGN_ALLOC=64\n",
      "   KMP_ALL_THREADPRIVATE=128\n",
      "   KMP_ATOMIC_MODE=2\n",
      "   KMP_BLOCKTIME=0\n",
      "   KMP_CPUINFO_FILE: value is not defined\n",
      "   KMP_DETERMINISTIC_REDUCTION=false\n",
      "   KMP_DEVICE_THREAD_LIMIT=2147483647\n",
      "   KMP_DISP_NUM_BUFFERS=7\n",
      "   KMP_DUPLICATE_LIB_OK=true\n",
      "   KMP_ENABLE_TASK_THROTTLING=true\n",
      "   KMP_FORCE_REDUCTION: value is not defined\n",
      "   KMP_FOREIGN_THREADS_THREADPRIVATE=true\n",
      "   KMP_FORKJOIN_BARRIER='2,2'\n",
      "   KMP_FORKJOIN_BARRIER_PATTERN='hyper,hyper'\n",
      "   KMP_GTID_MODE=3\n",
      "   KMP_HANDLE_SIGNALS=false\n",
      "   KMP_HOT_TEAMS_MAX_LEVEL=1\n",
      "   KMP_HOT_TEAMS_MODE=0\n",
      "   KMP_INIT_AT_FORK=true\n",
      "   KMP_LIBRARY=throughput\n",
      "   KMP_LOCK_KIND=queuing\n",
      "   KMP_MALLOC_POOL_INCR=1M\n",
      "   KMP_NUM_LOCKS_IN_BLOCK=1\n",
      "   KMP_PLAIN_BARRIER='2,2'\n",
      "   KMP_PLAIN_BARRIER_PATTERN='hyper,hyper'\n",
      "   KMP_REDUCTION_BARRIER='1,1'\n",
      "   KMP_REDUCTION_BARRIER_PATTERN='hyper,hyper'\n",
      "   KMP_SCHEDULE='static,balanced;guided,iterative'\n",
      "   KMP_SETTINGS=true\n",
      "   KMP_SPIN_BACKOFF_PARAMS='4096,100'\n",
      "   KMP_STACKOFFSET=64\n",
      "   KMP_STACKPAD=0\n",
      "   KMP_STACKSIZE=8M\n",
      "   KMP_STORAGE_MAP=false\n",
      "   KMP_TASKING=2\n",
      "   KMP_TASKLOOP_MIN_TASKS=0\n",
      "   KMP_TASK_STEALING_CONSTRAINT=1\n",
      "   KMP_TEAMS_THREAD_LIMIT=4\n",
      "   KMP_TOPOLOGY_METHOD=all\n",
      "   KMP_USE_YIELD=1\n",
      "   KMP_VERSION=false\n",
      "   KMP_WARNINGS=false\n",
      "   OMP_AFFINITY_FORMAT='OMP: pid %P tid %i thread %n bound to OS proc set {%A}'\n",
      "   OMP_ALLOCATOR=omp_default_mem_alloc\n",
      "   OMP_CANCELLATION=false\n",
      "   OMP_DEFAULT_DEVICE=0\n",
      "   OMP_DISPLAY_AFFINITY=false\n",
      "   OMP_DISPLAY_ENV=false\n",
      "   OMP_DYNAMIC=false\n",
      "   OMP_MAX_ACTIVE_LEVELS=1\n",
      "   OMP_MAX_TASK_PRIORITY=0\n",
      "   OMP_NESTED: deprecated; max-active-levels-var=1\n",
      "   OMP_NUM_THREADS: value is not defined\n",
      "   OMP_PLACES: value is not defined\n",
      "   OMP_PROC_BIND='intel'\n",
      "   OMP_SCHEDULE='static'\n",
      "   OMP_STACKSIZE=8M\n",
      "   OMP_TARGET_OFFLOAD=DEFAULT\n",
      "   OMP_THREAD_LIMIT=2147483647\n",
      "   OMP_WAIT_POLICY=PASSIVE\n",
      "   KMP_AFFINITY='verbose,warnings,respect,granularity=fine,compact,1,0'\n",
      "\n",
      "2022-01-10 10:48:21.428925: I tensorflow/core/common_runtime/process_util.cc:146] Creating new thread pool with default inter op setting: 2. Tune using inter_op_parallelism_threads for best performance.\n",
      "2022-01-10 10:48:21.784580: I tensorflow/compiler/mlir/mlir_graph_optimization_pass.cc:185] None of the MLIR Optimization Passes are enabled (registered 2)\n"
     ]
    },
    {
     "name": "stdout",
     "output_type": "stream",
     "text": [
      "[0.4544860961345526, 0.5443786982248521, 0.3583333333333333]\n",
      "Model: \"sequential\"\n",
      "_________________________________________________________________\n",
      "Layer (type)                 Output Shape              Param #   \n",
      "=================================================================\n",
      "conv2d (Conv2D)              (None, 5, 60, 8)          664       \n",
      "_________________________________________________________________\n",
      "dropout (Dropout)            (None, 5, 60, 8)          0         \n",
      "_________________________________________________________________\n",
      "batch_normalization (BatchNo (None, 5, 60, 8)          32        \n",
      "_________________________________________________________________\n",
      "conv2d_1 (Conv2D)            (None, 1, 58, 8)          968       \n",
      "_________________________________________________________________\n",
      "max_pooling2d (MaxPooling2D) (None, 1, 29, 8)          0         \n",
      "_________________________________________________________________\n",
      "dropout_1 (Dropout)          (None, 1, 29, 8)          0         \n",
      "_________________________________________________________________\n",
      "conv2d_2 (Conv2D)            (None, 1, 27, 8)          200       \n",
      "_________________________________________________________________\n",
      "max_pooling2d_1 (MaxPooling2 (None, 1, 13, 8)          0         \n",
      "_________________________________________________________________\n",
      "flatten (Flatten)            (None, 104)               0         \n",
      "_________________________________________________________________\n",
      "dropout_2 (Dropout)          (None, 104)               0         \n",
      "_________________________________________________________________\n",
      "dense (Dense)                (None, 1)                 105       \n",
      "=================================================================\n",
      "Total params: 1,969\n",
      "Trainable params: 1,953\n",
      "Non-trainable params: 16\n",
      "_________________________________________________________________\n",
      "i:  2\n",
      "fitting model\n",
      "[0.45493982088636364, 0.5384615384615384, 0.39634565187525755]\n",
      "Model: \"sequential\"\n",
      "_________________________________________________________________\n",
      "Layer (type)                 Output Shape              Param #   \n",
      "=================================================================\n",
      "conv2d (Conv2D)              (None, 5, 60, 8)          664       \n",
      "_________________________________________________________________\n",
      "dropout (Dropout)            (None, 5, 60, 8)          0         \n",
      "_________________________________________________________________\n",
      "batch_normalization (BatchNo (None, 5, 60, 8)          32        \n",
      "_________________________________________________________________\n",
      "conv2d_1 (Conv2D)            (None, 1, 58, 8)          968       \n",
      "_________________________________________________________________\n",
      "max_pooling2d (MaxPooling2D) (None, 1, 29, 8)          0         \n",
      "_________________________________________________________________\n",
      "dropout_1 (Dropout)          (None, 1, 29, 8)          0         \n",
      "_________________________________________________________________\n",
      "conv2d_2 (Conv2D)            (None, 1, 27, 8)          200       \n",
      "_________________________________________________________________\n",
      "max_pooling2d_1 (MaxPooling2 (None, 1, 13, 8)          0         \n",
      "_________________________________________________________________\n",
      "flatten (Flatten)            (None, 104)               0         \n",
      "_________________________________________________________________\n",
      "dropout_2 (Dropout)          (None, 104)               0         \n",
      "_________________________________________________________________\n",
      "dense (Dense)                (None, 1)                 105       \n",
      "=================================================================\n",
      "Total params: 1,969\n",
      "Trainable params: 1,953\n",
      "Non-trainable params: 16\n",
      "_________________________________________________________________\n",
      "i:  3\n",
      "fitting model\n",
      "[0.4586672297948916, 0.5384615384615384, 0.40517124678489236]\n",
      "Model: \"sequential\"\n",
      "_________________________________________________________________\n",
      "Layer (type)                 Output Shape              Param #   \n",
      "=================================================================\n",
      "conv2d (Conv2D)              (None, 5, 60, 8)          664       \n",
      "_________________________________________________________________\n",
      "dropout (Dropout)            (None, 5, 60, 8)          0         \n",
      "_________________________________________________________________\n",
      "batch_normalization (BatchNo (None, 5, 60, 8)          32        \n",
      "_________________________________________________________________\n",
      "conv2d_1 (Conv2D)            (None, 1, 58, 8)          968       \n",
      "_________________________________________________________________\n",
      "max_pooling2d (MaxPooling2D) (None, 1, 29, 8)          0         \n",
      "_________________________________________________________________\n",
      "dropout_1 (Dropout)          (None, 1, 29, 8)          0         \n",
      "_________________________________________________________________\n",
      "conv2d_2 (Conv2D)            (None, 1, 27, 8)          200       \n",
      "_________________________________________________________________\n",
      "max_pooling2d_1 (MaxPooling2 (None, 1, 13, 8)          0         \n",
      "_________________________________________________________________\n",
      "flatten (Flatten)            (None, 104)               0         \n",
      "_________________________________________________________________\n",
      "dropout_2 (Dropout)          (None, 104)               0         \n",
      "_________________________________________________________________\n",
      "dense (Dense)                (None, 1)                 105       \n",
      "=================================================================\n",
      "Total params: 1,969\n",
      "Trainable params: 1,953\n",
      "Non-trainable params: 16\n",
      "_________________________________________________________________\n",
      "i:  4\n",
      "fitting model\n",
      "[0.4436208446335642, 0.5562130177514792, 0.46109693877551017]\n",
      "Model: \"sequential\"\n",
      "_________________________________________________________________\n",
      "Layer (type)                 Output Shape              Param #   \n",
      "=================================================================\n",
      "conv2d (Conv2D)              (None, 5, 60, 8)          664       \n",
      "_________________________________________________________________\n",
      "dropout (Dropout)            (None, 5, 60, 8)          0         \n",
      "_________________________________________________________________\n",
      "batch_normalization (BatchNo (None, 5, 60, 8)          32        \n",
      "_________________________________________________________________\n",
      "conv2d_1 (Conv2D)            (None, 1, 58, 8)          968       \n",
      "_________________________________________________________________\n",
      "max_pooling2d (MaxPooling2D) (None, 1, 29, 8)          0         \n",
      "_________________________________________________________________\n",
      "dropout_1 (Dropout)          (None, 1, 29, 8)          0         \n",
      "_________________________________________________________________\n",
      "conv2d_2 (Conv2D)            (None, 1, 27, 8)          200       \n",
      "_________________________________________________________________\n",
      "max_pooling2d_1 (MaxPooling2 (None, 1, 13, 8)          0         \n",
      "_________________________________________________________________\n",
      "flatten (Flatten)            (None, 104)               0         \n",
      "_________________________________________________________________\n",
      "dropout_2 (Dropout)          (None, 104)               0         \n",
      "_________________________________________________________________\n",
      "dense (Dense)                (None, 1)                 105       \n",
      "=================================================================\n",
      "Total params: 1,969\n",
      "Trainable params: 1,953\n",
      "Non-trainable params: 16\n",
      "_________________________________________________________________\n",
      "saving results\n"
     ]
    },
    {
     "data": {
      "text/html": [
       "<div>\n",
       "<style scoped>\n",
       "    .dataframe tbody tr th:only-of-type {\n",
       "        vertical-align: middle;\n",
       "    }\n",
       "\n",
       "    .dataframe tbody tr th {\n",
       "        vertical-align: top;\n",
       "    }\n",
       "\n",
       "    .dataframe thead th {\n",
       "        text-align: right;\n",
       "    }\n",
       "</style>\n",
       "<table border=\"1\" class=\"dataframe\">\n",
       "  <thead>\n",
       "    <tr style=\"text-align: right;\">\n",
       "      <th></th>\n",
       "      <th>MAE</th>\n",
       "      <th>Accuracy</th>\n",
       "      <th>F-score</th>\n",
       "    </tr>\n",
       "  </thead>\n",
       "  <tbody>\n",
       "    <tr>\n",
       "      <th>0</th>\n",
       "      <td>0.454486</td>\n",
       "      <td>0.544379</td>\n",
       "      <td>0.358333</td>\n",
       "    </tr>\n",
       "    <tr>\n",
       "      <th>1</th>\n",
       "      <td>0.454940</td>\n",
       "      <td>0.538462</td>\n",
       "      <td>0.396346</td>\n",
       "    </tr>\n",
       "    <tr>\n",
       "      <th>2</th>\n",
       "      <td>0.458667</td>\n",
       "      <td>0.538462</td>\n",
       "      <td>0.405171</td>\n",
       "    </tr>\n",
       "    <tr>\n",
       "      <th>3</th>\n",
       "      <td>0.443621</td>\n",
       "      <td>0.556213</td>\n",
       "      <td>0.461097</td>\n",
       "    </tr>\n",
       "    <tr>\n",
       "      <th>4</th>\n",
       "      <td>0.452928</td>\n",
       "      <td>0.544379</td>\n",
       "      <td>0.405237</td>\n",
       "    </tr>\n",
       "    <tr>\n",
       "      <th>5</th>\n",
       "      <td>0.458667</td>\n",
       "      <td>0.556213</td>\n",
       "      <td>0.461097</td>\n",
       "    </tr>\n",
       "    <tr>\n",
       "      <th>6</th>\n",
       "      <td>0.006482</td>\n",
       "      <td>0.008368</td>\n",
       "      <td>0.042424</td>\n",
       "    </tr>\n",
       "  </tbody>\n",
       "</table>\n",
       "</div>"
      ],
      "text/plain": [
       "        MAE  Accuracy   F-score\n",
       "0  0.454486  0.544379  0.358333\n",
       "1  0.454940  0.538462  0.396346\n",
       "2  0.458667  0.538462  0.405171\n",
       "3  0.443621  0.556213  0.461097\n",
       "4  0.452928  0.544379  0.405237\n",
       "5  0.458667  0.556213  0.461097\n",
       "6  0.006482  0.008368  0.042424"
      ]
     },
     "execution_count": 27,
     "metadata": {},
     "output_type": "execute_result"
    }
   ],
   "source": [
    "train_data, test_data, train_target, test_target = prepare_for_CNN()\n",
    "\n",
    "CNN(train_data, test_data, train_target, test_target)"
   ]
  },
  {
   "cell_type": "code",
   "execution_count": 28,
   "id": "ee425d84",
   "metadata": {
    "execution": {
     "iopub.execute_input": "2022-01-10T10:49:36.463025Z",
     "iopub.status.busy": "2022-01-10T10:49:36.461942Z",
     "iopub.status.idle": "2022-01-10T10:49:36.464221Z",
     "shell.execute_reply": "2022-01-10T10:49:36.464866Z",
     "shell.execute_reply.started": "2022-01-10T10:43:02.660254Z"
    },
    "papermill": {
     "duration": 0.086593,
     "end_time": "2022-01-10T10:49:36.465056",
     "exception": false,
     "start_time": "2022-01-10T10:49:36.378463",
     "status": "completed"
    },
    "tags": []
   },
   "outputs": [],
   "source": [
    "def cnn_data_sequence_for_intermediate(data, target, seque_len):\n",
    "    print ('sequencing data ...')\n",
    "    new_train = []\n",
    "    new_target = []\n",
    "\n",
    "    for index in range(data.shape[1] - seque_len + 1):\n",
    "        new_train.append(data[:, index: index + seque_len])\n",
    "        new_target.append(target[index + seque_len - 1])\n",
    "\n",
    "    new_train = np.array(new_train)\n",
    "    new_target = np.array(new_target)\n",
    "\n",
    "    return new_train, new_target"
   ]
  },
  {
   "cell_type": "code",
   "execution_count": 29,
   "id": "6d54f870",
   "metadata": {
    "execution": {
     "iopub.execute_input": "2022-01-10T10:49:36.621439Z",
     "iopub.status.busy": "2022-01-10T10:49:36.620378Z",
     "iopub.status.idle": "2022-01-10T10:49:36.632095Z",
     "shell.execute_reply": "2022-01-10T10:49:36.632667Z",
     "shell.execute_reply.started": "2022-01-10T10:43:02.668143Z"
    },
    "papermill": {
     "duration": 0.092058,
     "end_time": "2022-01-10T10:49:36.632871",
     "exception": false,
     "start_time": "2022-01-10T10:49:36.540813",
     "status": "completed"
    },
    "tags": []
   },
   "outputs": [],
   "source": [
    "from tensorflow.python.keras import Model\n",
    "\n",
    "def intermediate_CNN(train_data, test_data, train_target, test_target):\n",
    "    # hisory of data in each sample\n",
    "    seq_len = 60\n",
    "    epoc = 100\n",
    "    drop = 0.1\n",
    "    \n",
    "    cnn_train_data, cnn_train_target = cnn_data_sequence(train_data, train_target, seq_len)\n",
    "    print(\"cnn_train_data:\", cnn_train_data.shape)\n",
    "    print(\"cnn_train_target:\", cnn_train_target.shape)\n",
    "    \n",
    "    cnn_test_data, cnn_test_target = cnn_data_sequence(test_data, test_target, seq_len)\n",
    "    print(\"cnn_test_data:\", cnn_test_data.shape)\n",
    "    print(\"cnn_test_target:\", cnn_test_target.shape)\n",
    "    \n",
    "    result = []\n",
    "    \n",
    "           \n",
    "    print('fitting model')\n",
    "    \n",
    "    model = Sequential()\n",
    "                                        # M0 -> inputs are given (60,5,82)\n",
    "    #layer 1                            # M1 -> (60,5,8) (# past days, # markets, # features)\n",
    "    model.add(Conv2D(number_filter[0], (1, 1), activation='relu', input_shape=(number_of_stocks,seq_len, number_feature), data_format='channels_last'))\n",
    "    model.add(Dropout(0.1)) # added     # +++ Dropout \n",
    "    \n",
    "    #layer 2\n",
    "    model.add(BatchNormalization())     # added   +++ Batch Normalization\n",
    "    model.add(Conv2D(number_filter[1], (number_of_stocks, 3), activation='relu'))\n",
    "    model.add(MaxPool2D(pool_size=(1, 2)))\n",
    "    model.add(Dropout(0.2)) # added\n",
    "\n",
    "    \n",
    "    #layer 3\n",
    "    model.add(Conv2D(number_filter[2], (1, 3), activation='relu'))\n",
    "    model.add(MaxPool2D(pool_size=(1, 2)))\n",
    "    \n",
    "    # Flattening Layer:\n",
    "    model.add(Flatten())\n",
    "    outputlayer = Dropout(0.01)\n",
    "    model.add(outputlayer)  # added\n",
    "        \n",
    "    return model,outputlayer"
   ]
  },
  {
   "cell_type": "code",
   "execution_count": 30,
   "id": "2c10d1b8",
   "metadata": {
    "execution": {
     "iopub.execute_input": "2022-01-10T10:49:36.787395Z",
     "iopub.status.busy": "2022-01-10T10:49:36.786286Z",
     "iopub.status.idle": "2022-01-10T10:49:37.435382Z",
     "shell.execute_reply": "2022-01-10T10:49:37.435965Z",
     "shell.execute_reply.started": "2022-01-10T10:43:02.684107Z"
    },
    "papermill": {
     "duration": 0.727706,
     "end_time": "2022-01-10T10:49:37.436152",
     "exception": false,
     "start_time": "2022-01-10T10:49:36.708446",
     "status": "completed"
    },
    "tags": []
   },
   "outputs": [
    {
     "name": "stdout",
     "output_type": "stream",
     "text": [
      "sequencing data ...\n",
      "sequencing data ...\n",
      "cnn_train_data: (1327, 5, 60, 82)\n",
      "cnn_train_target: (1327,)\n",
      "sequencing data ...\n",
      "cnn_test_data: (338, 5, 60, 82)\n",
      "cnn_test_target: (338,)\n",
      "fitting model\n"
     ]
    }
   ],
   "source": [
    "new_train, new_target = cnn_data_sequence_for_intermediate(train_data, train_target, 60)\n",
    "model, outputlayer = intermediate_CNN(train_data, test_data, train_target, test_target)\n",
    "intermediate_model = Model(model.input, outputlayer.output)\n",
    "cnn_features = intermediate_model.predict(new_train)"
   ]
  },
  {
   "cell_type": "code",
   "execution_count": 31,
   "id": "e74c1df1",
   "metadata": {
    "execution": {
     "iopub.execute_input": "2022-01-10T10:49:37.589113Z",
     "iopub.status.busy": "2022-01-10T10:49:37.588460Z",
     "iopub.status.idle": "2022-01-10T10:49:37.711759Z",
     "shell.execute_reply": "2022-01-10T10:49:37.711153Z",
     "shell.execute_reply.started": "2022-01-10T10:43:03.344544Z"
    },
    "papermill": {
     "duration": 0.200969,
     "end_time": "2022-01-10T10:49:37.711910",
     "exception": false,
     "start_time": "2022-01-10T10:49:37.510941",
     "status": "completed"
    },
    "tags": []
   },
   "outputs": [
    {
     "name": "stdout",
     "output_type": "stream",
     "text": [
      "sequencing data ...\n"
     ]
    }
   ],
   "source": [
    "new_test, new_target_test = cnn_data_sequence_for_intermediate(test_data, test_target, 60)\n",
    "test_cnn_features = intermediate_model.predict(new_test)"
   ]
  },
  {
   "cell_type": "markdown",
   "id": "985910d6",
   "metadata": {
    "papermill": {
     "duration": 0.075662,
     "end_time": "2022-01-10T10:49:37.864930",
     "exception": false,
     "start_time": "2022-01-10T10:49:37.789268",
     "status": "completed"
    },
    "tags": []
   },
   "source": [
    "# XGBoost"
   ]
  },
  {
   "cell_type": "code",
   "execution_count": 32,
   "id": "85ac4bcd",
   "metadata": {
    "execution": {
     "iopub.execute_input": "2022-01-10T10:49:38.020809Z",
     "iopub.status.busy": "2022-01-10T10:49:38.020049Z",
     "iopub.status.idle": "2022-01-10T10:49:38.124426Z",
     "shell.execute_reply": "2022-01-10T10:49:38.123874Z",
     "shell.execute_reply.started": "2022-01-10T10:43:03.469519Z"
    },
    "papermill": {
     "duration": 0.183499,
     "end_time": "2022-01-10T10:49:38.124576",
     "exception": false,
     "start_time": "2022-01-10T10:49:37.941077",
     "status": "completed"
    },
    "tags": []
   },
   "outputs": [],
   "source": [
    "from xgboost import XGBClassifier"
   ]
  },
  {
   "cell_type": "code",
   "execution_count": 33,
   "id": "194f0320",
   "metadata": {
    "execution": {
     "iopub.execute_input": "2022-01-10T10:49:38.280998Z",
     "iopub.status.busy": "2022-01-10T10:49:38.280337Z",
     "iopub.status.idle": "2022-01-10T10:49:38.282656Z",
     "shell.execute_reply": "2022-01-10T10:49:38.283229Z",
     "shell.execute_reply.started": "2022-01-10T10:43:03.506792Z"
    },
    "papermill": {
     "duration": 0.083162,
     "end_time": "2022-01-10T10:49:38.283405",
     "exception": false,
     "start_time": "2022-01-10T10:49:38.200243",
     "status": "completed"
    },
    "tags": []
   },
   "outputs": [],
   "source": [
    "xgbmodel = XGBClassifier()"
   ]
  },
  {
   "cell_type": "code",
   "execution_count": 34,
   "id": "4962539b",
   "metadata": {
    "execution": {
     "iopub.execute_input": "2022-01-10T10:49:38.437599Z",
     "iopub.status.busy": "2022-01-10T10:49:38.436969Z",
     "iopub.status.idle": "2022-01-10T10:49:39.773968Z",
     "shell.execute_reply": "2022-01-10T10:49:39.773413Z",
     "shell.execute_reply.started": "2022-01-10T10:43:03.515885Z"
    },
    "papermill": {
     "duration": 1.415242,
     "end_time": "2022-01-10T10:49:39.774112",
     "exception": false,
     "start_time": "2022-01-10T10:49:38.358870",
     "status": "completed"
    },
    "tags": []
   },
   "outputs": [
    {
     "name": "stderr",
     "output_type": "stream",
     "text": [
      "/opt/conda/lib/python3.7/site-packages/xgboost/sklearn.py:1224: UserWarning: The use of label encoder in XGBClassifier is deprecated and will be removed in a future release. To remove this warning, do the following: 1) Pass option use_label_encoder=False when constructing XGBClassifier object; and 2) Encode your labels (y) as integers starting with 0, i.e. 0, 1, 2, ..., [num_class - 1].\n",
      "  warnings.warn(label_encoder_deprecation_msg, UserWarning)\n"
     ]
    },
    {
     "name": "stdout",
     "output_type": "stream",
     "text": [
      "[10:49:38] WARNING: ../src/learner.cc:1115: Starting in XGBoost 1.3.0, the default evaluation metric used with the objective 'binary:logistic' was changed from 'error' to 'logloss'. Explicitly set eval_metric if you'd like to restore the old behavior.\n"
     ]
    },
    {
     "data": {
      "text/plain": [
       "XGBClassifier(base_score=0.5, booster='gbtree', colsample_bylevel=1,\n",
       "              colsample_bynode=1, colsample_bytree=1, enable_categorical=False,\n",
       "              gamma=0, gpu_id=-1, importance_type=None,\n",
       "              interaction_constraints='', learning_rate=0.300000012,\n",
       "              max_delta_step=0, max_depth=6, min_child_weight=1, missing=nan,\n",
       "              monotone_constraints='()', n_estimators=100, n_jobs=4,\n",
       "              num_parallel_tree=1, predictor='auto', random_state=0,\n",
       "              reg_alpha=0, reg_lambda=1, scale_pos_weight=1, subsample=1,\n",
       "              tree_method='exact', validate_parameters=1, verbosity=None)"
      ]
     },
     "execution_count": 34,
     "metadata": {},
     "output_type": "execute_result"
    }
   ],
   "source": [
    "xgbmodel.fit(cnn_features, new_target)"
   ]
  },
  {
   "cell_type": "code",
   "execution_count": 35,
   "id": "5cd914a6",
   "metadata": {
    "execution": {
     "iopub.execute_input": "2022-01-10T10:49:39.931211Z",
     "iopub.status.busy": "2022-01-10T10:49:39.929460Z",
     "iopub.status.idle": "2022-01-10T10:49:39.940340Z",
     "shell.execute_reply": "2022-01-10T10:49:39.940889Z",
     "shell.execute_reply.started": "2022-01-10T10:43:04.991299Z"
    },
    "papermill": {
     "duration": 0.090971,
     "end_time": "2022-01-10T10:49:39.941100",
     "exception": false,
     "start_time": "2022-01-10T10:49:39.850129",
     "status": "completed"
    },
    "tags": []
   },
   "outputs": [],
   "source": [
    "pred = xgbmodel.predict(test_cnn_features)"
   ]
  },
  {
   "cell_type": "code",
   "execution_count": 36,
   "id": "14cc1060",
   "metadata": {
    "execution": {
     "iopub.execute_input": "2022-01-10T10:49:40.101627Z",
     "iopub.status.busy": "2022-01-10T10:49:40.100664Z",
     "iopub.status.idle": "2022-01-10T10:49:40.104919Z",
     "shell.execute_reply": "2022-01-10T10:49:40.105383Z",
     "shell.execute_reply.started": "2022-01-10T10:43:05.007082Z"
    },
    "papermill": {
     "duration": 0.086345,
     "end_time": "2022-01-10T10:49:40.105555",
     "exception": false,
     "start_time": "2022-01-10T10:49:40.019210",
     "status": "completed"
    },
    "tags": []
   },
   "outputs": [
    {
     "name": "stdout",
     "output_type": "stream",
     "text": [
      "Accuracy: 0.5059171597633136\n"
     ]
    }
   ],
   "source": [
    "from sklearn.metrics import accuracy_score\n",
    "\n",
    "accuracy = accuracy_score(new_target_test, pred)\n",
    "print(\"Accuracy:\", accuracy)"
   ]
  },
  {
   "cell_type": "code",
   "execution_count": 37,
   "id": "c4072288",
   "metadata": {
    "execution": {
     "iopub.execute_input": "2022-01-10T10:49:40.265839Z",
     "iopub.status.busy": "2022-01-10T10:49:40.265140Z",
     "iopub.status.idle": "2022-01-10T10:49:40.269852Z",
     "shell.execute_reply": "2022-01-10T10:49:40.270486Z",
     "shell.execute_reply.started": "2022-01-10T10:43:05.018722Z"
    },
    "papermill": {
     "duration": 0.086946,
     "end_time": "2022-01-10T10:49:40.270654",
     "exception": false,
     "start_time": "2022-01-10T10:49:40.183708",
     "status": "completed"
    },
    "tags": []
   },
   "outputs": [
    {
     "name": "stdout",
     "output_type": "stream",
     "text": [
      "f1 score: 0.49992469545957924\n"
     ]
    }
   ],
   "source": [
    "print(\"f1 score:\", f1_score(new_target_test, pred, average=\"macro\"))"
   ]
  },
  {
   "cell_type": "code",
   "execution_count": 38,
   "id": "949fc516",
   "metadata": {
    "execution": {
     "iopub.execute_input": "2022-01-10T10:49:40.433520Z",
     "iopub.status.busy": "2022-01-10T10:49:40.432492Z",
     "iopub.status.idle": "2022-01-10T10:49:40.438228Z",
     "shell.execute_reply": "2022-01-10T10:49:40.438821Z",
     "shell.execute_reply.started": "2022-01-10T10:43:05.028705Z"
    },
    "papermill": {
     "duration": 0.089661,
     "end_time": "2022-01-10T10:49:40.439002",
     "exception": false,
     "start_time": "2022-01-10T10:49:40.349341",
     "status": "completed"
    },
    "tags": []
   },
   "outputs": [
    {
     "name": "stdout",
     "output_type": "stream",
     "text": [
      "MAE: 0.4940828402366864\n"
     ]
    }
   ],
   "source": [
    "print(\"MAE:\", mae(new_target_test, pred))"
   ]
  },
  {
   "cell_type": "markdown",
   "id": "9bbae927",
   "metadata": {
    "papermill": {
     "duration": 0.076565,
     "end_time": "2022-01-10T10:49:40.593192",
     "exception": false,
     "start_time": "2022-01-10T10:49:40.516627",
     "status": "completed"
    },
    "tags": []
   },
   "source": [
    "# S&P 500 Results:"
   ]
  },
  {
   "attachments": {
    "df7b0e18-a1be-4e0e-a39c-bad3e9704eb8.png": {
     "image/png": "[encoded data removed]"
    }
   },
   "cell_type": "markdown",
   "id": "95d48610",
   "metadata": {
    "papermill": {
     "duration": 0.076916,
     "end_time": "2022-01-10T10:49:40.747333",
     "exception": false,
     "start_time": "2022-01-10T10:49:40.670417",
     "status": "completed"
    },
    "tags": []
   },
   "source": [
    "![image.png](attachment:df7b0e18-a1be-4e0e-a39c-bad3e9704eb8.png)"
   ]
  },
  {
   "attachments": {
    "e05688a1-603b-4f87-925a-b11c2a140977.png": {
     "image/png": "[encoded data removed]"
    }
   },
   "cell_type": "markdown",
   "id": "20d11030",
   "metadata": {
    "papermill": {
     "duration": 0.076495,
     "end_time": "2022-01-10T10:49:40.900894",
     "exception": false,
     "start_time": "2022-01-10T10:49:40.824399",
     "status": "completed"
    },
    "tags": []
   },
   "source": [
    "![image.png](attachment:e05688a1-603b-4f87-925a-b11c2a140977.png)"
   ]
  },
  {
   "attachments": {
    "4025b31c-59c0-4483-81ac-8ebf83e0d520.png": {
     "image/png": "[encoded data removed]"
    },
    "6541f186-bf7c-46eb-bf11-a5e0c2f290d3.png": {
     "image/png": "[encoded data removed]"
    },
    "cc7e78f6-bc70-4e94-876b-953d25b663c8.png": {
     "image/png": "[encoded data removed]"
    }
   },
   "cell_type": "markdown",
   "id": "c66d6666",
   "metadata": {
    "papermill": {
     "duration": 0.077732,
     "end_time": "2022-01-10T10:49:41.055711",
     "exception": false,
     "start_time": "2022-01-10T10:49:40.977979",
     "status": "completed"
    },
    "tags": []
   },
   "source": [
    "![image.png](attachment:cc7e78f6-bc70-4e94-876b-953d25b663c8.png)\n",
    "![image.png](attachment:4025b31c-59c0-4483-81ac-8ebf83e0d520.png)\n",
    "![image.png](attachment:6541f186-bf7c-46eb-bf11-a5e0c2f290d3.png)"
   ]
  },
  {
   "cell_type": "code",
   "execution_count": 39,
   "id": "5cb64558",
   "metadata": {
    "execution": {
     "iopub.execute_input": "2022-01-10T10:49:41.215093Z",
     "iopub.status.busy": "2022-01-10T10:49:41.214376Z",
     "iopub.status.idle": "2022-01-10T10:49:41.217545Z",
     "shell.execute_reply": "2022-01-10T10:49:41.218163Z",
     "shell.execute_reply.started": "2022-01-10T10:43:05.042496Z"
    },
    "papermill": {
     "duration": 0.084226,
     "end_time": "2022-01-10T10:49:41.218366",
     "exception": false,
     "start_time": "2022-01-10T10:49:41.134140",
     "status": "completed"
    },
    "tags": []
   },
   "outputs": [],
   "source": [
    "best_SP_results = []\n",
    "SP_CNN_XGBoost = [0.5532544378698225, 0.5518382901750042, 0.4467455621301775] # Accuracy, F1, MAE"
   ]
  },
  {
   "cell_type": "markdown",
   "id": "8b59563a",
   "metadata": {
    "papermill": {
     "duration": 0.076823,
     "end_time": "2022-01-10T10:49:41.374016",
     "exception": false,
     "start_time": "2022-01-10T10:49:41.297193",
     "status": "completed"
    },
    "tags": []
   },
   "source": [
    "# DJI Results:"
   ]
  },
  {
   "attachments": {
    "eb92e190-7ae1-45df-a694-79a72ca9a29d.png": {
     "image/png": "[encoded data removed]"
    }
   },
   "cell_type": "markdown",
   "id": "dd90a92d",
   "metadata": {
    "papermill": {
     "duration": 0.077049,
     "end_time": "2022-01-10T10:49:41.528290",
     "exception": false,
     "start_time": "2022-01-10T10:49:41.451241",
     "status": "completed"
    },
    "tags": []
   },
   "source": [
    "![image.png](attachment:eb92e190-7ae1-45df-a694-79a72ca9a29d.png)"
   ]
  },
  {
   "attachments": {
    "4b8fb5e9-d3db-419f-a586-9cfbad869b00.png": {
     "image/png": "[encoded data removed]"
    }
   },
   "cell_type": "markdown",
   "id": "df0a8a61",
   "metadata": {
    "papermill": {
     "duration": 0.077058,
     "end_time": "2022-01-10T10:49:41.682589",
     "exception": false,
     "start_time": "2022-01-10T10:49:41.605531",
     "status": "completed"
    },
    "tags": []
   },
   "source": [
    "![image.png](attachment:4b8fb5e9-d3db-419f-a586-9cfbad869b00.png)"
   ]
  },
  {
   "attachments": {
    "199dc984-7f6b-4997-89c6-a55a77cc199a.png": {
     "image/png": "[encoded data removed]"
    },
    "7f67fbf9-88bd-49f0-a333-5db70fcabebe.png": {
     "image/png": "[encoded data removed]"
    },
    "fba87088-d3ec-44de-91b7-c9c47d0d2a38.png": {
     "image/png": "[encoded data removed]"
    }
   },
   "cell_type": "markdown",
   "id": "b32d847d",
   "metadata": {
    "papermill": {
     "duration": 0.077678,
     "end_time": "2022-01-10T10:49:41.837482",
     "exception": false,
     "start_time": "2022-01-10T10:49:41.759804",
     "status": "completed"
    },
    "tags": []
   },
   "source": [
    "![image.png](attachment:fba87088-d3ec-44de-91b7-c9c47d0d2a38.png)\n",
    "![image.png](attachment:7f67fbf9-88bd-49f0-a333-5db70fcabebe.png)\n",
    "![image.png](attachment:199dc984-7f6b-4997-89c6-a55a77cc199a.png)"
   ]
  },
  {
   "cell_type": "code",
   "execution_count": 40,
   "id": "c2164e24",
   "metadata": {
    "execution": {
     "iopub.execute_input": "2022-01-10T10:49:41.998315Z",
     "iopub.status.busy": "2022-01-10T10:49:41.997620Z",
     "iopub.status.idle": "2022-01-10T10:49:42.001191Z",
     "shell.execute_reply": "2022-01-10T10:49:42.001776Z",
     "shell.execute_reply.started": "2022-01-10T10:43:05.053134Z"
    },
    "papermill": {
     "duration": 0.085055,
     "end_time": "2022-01-10T10:49:42.001972",
     "exception": false,
     "start_time": "2022-01-10T10:49:41.916917",
     "status": "completed"
    },
    "tags": []
   },
   "outputs": [],
   "source": [
    "best_DJI_results = []\n",
    "DJI_CNN_XGBoost = [0.4970414201183432, 0.48484848484848486, 0.5029585798816568]"
   ]
  },
  {
   "cell_type": "markdown",
   "id": "39fdbae2",
   "metadata": {
    "papermill": {
     "duration": 0.079128,
     "end_time": "2022-01-10T10:49:42.160835",
     "exception": false,
     "start_time": "2022-01-10T10:49:42.081707",
     "status": "completed"
    },
    "tags": []
   },
   "source": [
    "# NASDAQ Results:"
   ]
  },
  {
   "attachments": {
    "36357dba-a589-4cfa-97d1-372796ee33b8.png": {
     "image/png": "[encoded data removed]"
    }
   },
   "cell_type": "markdown",
   "id": "de3b126f",
   "metadata": {
    "papermill": {
     "duration": 0.077169,
     "end_time": "2022-01-10T10:49:42.316822",
     "exception": false,
     "start_time": "2022-01-10T10:49:42.239653",
     "status": "completed"
    },
    "tags": []
   },
   "source": [
    "![image.png](attachment:36357dba-a589-4cfa-97d1-372796ee33b8.png)"
   ]
  },
  {
   "attachments": {
    "66fbdff2-e2be-4283-8069-50801b883d48.png": {
     "image/png": "[encoded data removed]"
    }
   },
   "cell_type": "markdown",
   "id": "bc706ac5",
   "metadata": {
    "papermill": {
     "duration": 0.077248,
     "end_time": "2022-01-10T10:49:42.471532",
     "exception": false,
     "start_time": "2022-01-10T10:49:42.394284",
     "status": "completed"
    },
    "tags": []
   },
   "source": [
    "![image.png](attachment:66fbdff2-e2be-4283-8069-50801b883d48.png)"
   ]
  },
  {
   "attachments": {
    "a8e4995d-4317-4522-a860-da8c21d9913d.png": {
     "image/png": "[encoded data removed]"
    },
    "d205bc03-1c75-42a6-bb03-28debd3ee7fe.png": {
     "image/png": "[encoded data removed]"
    },
    "dc5b0891-05e0-43da-a732-8b1540e20795.png": {
     "image/png": "[encoded data removed]"
    }
   },
   "cell_type": "markdown",
   "id": "7611b54f",
   "metadata": {
    "papermill": {
     "duration": 0.077306,
     "end_time": "2022-01-10T10:49:42.626128",
     "exception": false,
     "start_time": "2022-01-10T10:49:42.548822",
     "status": "completed"
    },
    "tags": []
   },
   "source": [
    "![image.png](attachment:dc5b0891-05e0-43da-a732-8b1540e20795.png)\n",
    "![image.png](attachment:a8e4995d-4317-4522-a860-da8c21d9913d.png)\n",
    "![image.png](attachment:d205bc03-1c75-42a6-bb03-28debd3ee7fe.png)"
   ]
  },
  {
   "cell_type": "code",
   "execution_count": 41,
   "id": "4b2a07ee",
   "metadata": {
    "execution": {
     "iopub.execute_input": "2022-01-10T10:49:42.786571Z",
     "iopub.status.busy": "2022-01-10T10:49:42.785892Z",
     "iopub.status.idle": "2022-01-10T10:49:42.788336Z",
     "shell.execute_reply": "2022-01-10T10:49:42.788864Z",
     "shell.execute_reply.started": "2022-01-10T10:43:05.071459Z"
    },
    "papermill": {
     "duration": 0.085228,
     "end_time": "2022-01-10T10:49:42.789038",
     "exception": false,
     "start_time": "2022-01-10T10:49:42.703810",
     "status": "completed"
    },
    "tags": []
   },
   "outputs": [],
   "source": [
    "best_NASDAQ_results = []\n",
    "NASDAQ_CNN_XGBoost = [0.5355029585798816, 0.5219063921798279, 0.46449704142011833]"
   ]
  },
  {
   "cell_type": "markdown",
   "id": "15d1541d",
   "metadata": {
    "papermill": {
     "duration": 0.077054,
     "end_time": "2022-01-10T10:49:42.943664",
     "exception": false,
     "start_time": "2022-01-10T10:49:42.866610",
     "status": "completed"
    },
    "tags": []
   },
   "source": [
    "# NYSE Results:"
   ]
  },
  {
   "attachments": {
    "c4e62991-62ae-4770-8ce9-55045ddd5a90.png": {
     "image/png": "[encoded data removed]"
    }
   },
   "cell_type": "markdown",
   "id": "de16085e",
   "metadata": {
    "papermill": {
     "duration": 0.076794,
     "end_time": "2022-01-10T10:49:43.098132",
     "exception": false,
     "start_time": "2022-01-10T10:49:43.021338",
     "status": "completed"
    },
    "tags": []
   },
   "source": [
    "![image.png](attachment:c4e62991-62ae-4770-8ce9-55045ddd5a90.png)"
   ]
  },
  {
   "attachments": {
    "13c42fb9-ab65-4b0f-bbd7-10c4d0b90973.png": {
     "image/png": "[encoded data removed]"
    }
   },
   "cell_type": "markdown",
   "id": "2d946876",
   "metadata": {
    "papermill": {
     "duration": 0.077092,
     "end_time": "2022-01-10T10:49:43.254293",
     "exception": false,
     "start_time": "2022-01-10T10:49:43.177201",
     "status": "completed"
    },
    "tags": []
   },
   "source": [
    "![image.png](attachment:13c42fb9-ab65-4b0f-bbd7-10c4d0b90973.png)"
   ]
  },
  {
   "attachments": {
    "75306e14-0418-4bfa-9617-c0bf03d4d46d.png": {
     "image/png": "[encoded data removed]"
    },
    "9f2b007a-5b4b-44c5-b1c4-eb7dce423c21.png": {
     "image/png": "[encoded data removed]"
    },
    "a141bf18-89e5-40b5-a42d-2361925d6f9b.png": {
     "image/png": "[encoded data removed]"
    }
   },
   "cell_type": "markdown",
   "id": "8f5e2097",
   "metadata": {
    "papermill": {
     "duration": 0.07694,
     "end_time": "2022-01-10T10:49:43.408598",
     "exception": false,
     "start_time": "2022-01-10T10:49:43.331658",
     "status": "completed"
    },
    "tags": []
   },
   "source": [
    "![image.png](attachment:9f2b007a-5b4b-44c5-b1c4-eb7dce423c21.png)\n",
    "![image.png](attachment:a141bf18-89e5-40b5-a42d-2361925d6f9b.png)\n",
    "![image.png](attachment:75306e14-0418-4bfa-9617-c0bf03d4d46d.png)"
   ]
  },
  {
   "cell_type": "code",
   "execution_count": 42,
   "id": "61b8c36d",
   "metadata": {
    "execution": {
     "iopub.execute_input": "2022-01-10T10:49:43.568528Z",
     "iopub.status.busy": "2022-01-10T10:49:43.567439Z",
     "iopub.status.idle": "2022-01-10T10:49:43.570079Z",
     "shell.execute_reply": "2022-01-10T10:49:43.569469Z",
     "shell.execute_reply.started": "2022-01-10T10:43:05.078709Z"
    },
    "papermill": {
     "duration": 0.084648,
     "end_time": "2022-01-10T10:49:43.570224",
     "exception": false,
     "start_time": "2022-01-10T10:49:43.485576",
     "status": "completed"
    },
    "tags": []
   },
   "outputs": [],
   "source": [
    "best_NYSE_results = []\n",
    "NYSE_CNN_XGBoost = [0.5325443786982249, 0.45984545049965614, 0.46745562130177515]"
   ]
  },
  {
   "cell_type": "markdown",
   "id": "5980fe4f",
   "metadata": {
    "papermill": {
     "duration": 0.077418,
     "end_time": "2022-01-10T10:49:43.724956",
     "exception": false,
     "start_time": "2022-01-10T10:49:43.647538",
     "status": "completed"
    },
    "tags": []
   },
   "source": [
    "# RUSSELL Results:"
   ]
  },
  {
   "attachments": {
    "742c6c67-dac8-428e-920c-21748aff14c6.png": {
     "image/png": "[encoded data removed]"
    }
   },
   "cell_type": "markdown",
   "id": "d9800c17",
   "metadata": {
    "papermill": {
     "duration": 0.077215,
     "end_time": "2022-01-10T10:49:43.879393",
     "exception": false,
     "start_time": "2022-01-10T10:49:43.802178",
     "status": "completed"
    },
    "tags": []
   },
   "source": [
    "![image.png](attachment:742c6c67-dac8-428e-920c-21748aff14c6.png)"
   ]
  },
  {
   "attachments": {
    "40ef2ea6-6c1b-45f2-a1fe-e94a457499eb.png": {
     "image/png": "[encoded data removed]"
    }
   },
   "cell_type": "markdown",
   "id": "3fc13e95",
   "metadata": {
    "papermill": {
     "duration": 0.077456,
     "end_time": "2022-01-10T10:49:44.035221",
     "exception": false,
     "start_time": "2022-01-10T10:49:43.957765",
     "status": "completed"
    },
    "tags": []
   },
   "source": [
    "![image.png](attachment:40ef2ea6-6c1b-45f2-a1fe-e94a457499eb.png)"
   ]
  },
  {
   "attachments": {
    "87cce2fb-0699-48d2-bfef-3d348912cbf1.png": {
     "image/png": "[encoded data removed]"
    },
    "993fcfde-b2b8-4f80-ad05-813207bf6f3f.png": {
     "image/png": "[encoded data removed]"
    },
    "b1d4aa43-6eb0-489f-b744-435f8c82000d.png": {
     "image/png": "[encoded data removed]"
    }
   },
   "cell_type": "markdown",
   "id": "b597fe7d",
   "metadata": {
    "papermill": {
     "duration": 0.079907,
     "end_time": "2022-01-10T10:49:44.192598",
     "exception": false,
     "start_time": "2022-01-10T10:49:44.112691",
     "status": "completed"
    },
    "tags": []
   },
   "source": [
    "![image.png](attachment:87cce2fb-0699-48d2-bfef-3d348912cbf1.png)\n",
    "![image.png](attachment:b1d4aa43-6eb0-489f-b744-435f8c82000d.png)\n",
    "![image.png](attachment:993fcfde-b2b8-4f80-ad05-813207bf6f3f.png)"
   ]
  },
  {
   "cell_type": "code",
   "execution_count": 43,
   "id": "e3983d4e",
   "metadata": {
    "execution": {
     "iopub.execute_input": "2022-01-10T10:49:44.354250Z",
     "iopub.status.busy": "2022-01-10T10:49:44.353215Z",
     "iopub.status.idle": "2022-01-10T10:49:44.355365Z",
     "shell.execute_reply": "2022-01-10T10:49:44.355936Z",
     "shell.execute_reply.started": "2022-01-10T10:43:05.091066Z"
    },
    "papermill": {
     "duration": 0.085665,
     "end_time": "2022-01-10T10:49:44.356109",
     "exception": false,
     "start_time": "2022-01-10T10:49:44.270444",
     "status": "completed"
    },
    "tags": []
   },
   "outputs": [],
   "source": [
    "best_RUSSELL_results = []\n",
    "RUSSELL_CNN_XGBoost = [0.5266272189349113, 0.5255640944660842, 0.47337278106508873]"
   ]
  },
  {
   "cell_type": "code",
   "execution_count": 44,
   "id": "d28b878e",
   "metadata": {
    "execution": {
     "iopub.execute_input": "2022-01-10T10:49:44.514016Z",
     "iopub.status.busy": "2022-01-10T10:49:44.513010Z",
     "iopub.status.idle": "2022-01-10T10:49:44.516323Z",
     "shell.execute_reply": "2022-01-10T10:49:44.516992Z",
     "shell.execute_reply.started": "2022-01-10T10:43:05.102827Z"
    },
    "papermill": {
     "duration": 0.084154,
     "end_time": "2022-01-10T10:49:44.517166",
     "exception": false,
     "start_time": "2022-01-10T10:49:44.433012",
     "status": "completed"
    },
    "tags": []
   },
   "outputs": [],
   "source": [
    "# Tablo yapılacak"
   ]
  },
  {
   "cell_type": "code",
   "execution_count": null,
   "id": "e2ea6f0d",
   "metadata": {
    "papermill": {
     "duration": 0.077311,
     "end_time": "2022-01-10T10:49:44.671908",
     "exception": false,
     "start_time": "2022-01-10T10:49:44.594597",
     "status": "completed"
    },
    "tags": []
   },
   "outputs": [],
   "source": []
  }
 ],
 "metadata": {
  "kernelspec": {
   "display_name": "Python 3 (ipykernel)",
   "language": "python",
   "name": "python3"
  },
  "language_info": {
   "codemirror_mode": {
    "name": "ipython",
    "version": 3
   },
   "file_extension": ".py",
   "mimetype": "text/x-python",
   "name": "python",
   "nbconvert_exporter": "python",
   "pygments_lexer": "ipython3",
   "version": "3.10.9"
  },
  "papermill": {
   "default_parameters": {},
   "duration": 117.848571,
   "end_time": "2022-01-10T10:49:48.150812",
   "environment_variables": {},
   "exception": null,
   "input_path": "__notebook__.ipynb",
   "output_path": "__notebook__.ipynb",
   "parameters": {},
   "start_time": "2022-01-10T10:47:50.302241",
   "version": "2.3.3"
  }
 },
 "nbformat": 4,
 "nbformat_minor": 5
}
